{
 "cells": [
  {
   "cell_type": "markdown",
   "id": "33fd6d87",
   "metadata": {},
   "source": [
    "# Yatzy RL environment"
   ]
  },
  {
   "cell_type": "markdown",
   "id": "68f18802",
   "metadata": {},
   "source": [
    "Yatzy program to play with and get policy and probabilities\n",
    "\n",
    "**Features**\n",
    "\n",
    "* single player setting to start with\n",
    "* encoding state\n",
    "* transition function for rules\n",
    "* checking terminal state and computing reward\n",
    "* actions to roll dice and select categories\n",
    "* value iteration to compute value function / policy\n",
    "* scorecard - which categories are used\n",
    "* check if category can be used\n",
    "\n",
    "**Getting probabilities**\n",
    "\n",
    "Value iteration framework naturally gives us expected values (average scores), but if we want the full probability distribution of outcomes, we have a couple of options:\n",
    "\n",
    "* Extend our existing transition function - Since we're already building transitions (state → action → next state), we can track probabilities through these transitions. This is essentially using the Markov chain structure we're already creating.\n",
    "* Monte Carlo simulation - Once we have our optimal policy, we can run many simulations and collect the distribution of final scores empirically.\n",
    "\n",
    "The first approach is more exact but computationally intensive. The second is simpler to implement and often sufficient."
   ]
  },
  {
   "cell_type": "markdown",
   "id": "106e57ba",
   "metadata": {},
   "source": [
    "I've decided on following **state representation**\n",
    "\n",
    "- **Current dice values** - a sorted tuple (1, 2, 3, 3, 5)\n",
    "- **Rolls left** - int - determines whether we can reroll or must score\n",
    "- **Filled categories** - frozenset of strings - determines which scoring options are still available\n",
    "\n",
    "**Value function** could be a dict:\n",
    "```python\n",
    "# V = {state: value}\n",
    "state = (dice, rolls, categories)\n",
    "value = V[state]\n",
    "```"
   ]
  },
  {
   "cell_type": "markdown",
   "id": "aa510c1f",
   "metadata": {},
   "source": [
    "**Plan to Start:**\n",
    "\n",
    "1. Define the 15 category names (as strings for frozenset)\n",
    "2. Write scoring functions for each category\n",
    "3. Implement dice rolling and state transitions\n",
    "4. Define valid actions (which dice to keep, which category to score)\n",
    "5. Build value iteration algorithm\n",
    "6. Test and iterate"
   ]
  },
  {
   "cell_type": "code",
   "execution_count": null,
   "id": "f22199a7",
   "metadata": {},
   "outputs": [],
   "source": [
    "#| default_exp yatzy"
   ]
  },
  {
   "cell_type": "code",
   "execution_count": null,
   "id": "50bc8c79",
   "metadata": {},
   "outputs": [],
   "source": [
    "#| export\n",
    "import random\n",
    "from dataclasses import dataclass\n",
    "from typing import Literal\n",
    "import itertools\n",
    "from collections import Counter\n",
    "from functools import partial"
   ]
  },
  {
   "cell_type": "code",
   "execution_count": null,
   "id": "099c6679",
   "metadata": {},
   "outputs": [],
   "source": [
    "#| export\n",
    "# categories\n",
    "\n",
    "categories = frozenset([\n",
    "    \"ones\",\n",
    "    \"twos\",\n",
    "    \"threes\",\n",
    "    \"fours\",\n",
    "    \"fives\",\n",
    "    \"sixes\",\n",
    "    \"one_pair\",\n",
    "    \"two_pairs\",\n",
    "    \"three_same\",\n",
    "    \"four_same\",\n",
    "    \"small_straight\",\n",
    "    \"large_straight\",\n",
    "    \"full_house\",\n",
    "    \"chance\",\n",
    "    \"yatzy\",\n",
    "])"
   ]
  },
  {
   "cell_type": "code",
   "execution_count": null,
   "id": "1855ea38",
   "metadata": {},
   "outputs": [
    {
     "data": {
      "text/plain": [
       "frozenset({'chance',\n",
       "           'fives',\n",
       "           'four_same',\n",
       "           'fours',\n",
       "           'full_house',\n",
       "           'large_straight',\n",
       "           'one_pair',\n",
       "           'ones',\n",
       "           'sixes',\n",
       "           'small_straight',\n",
       "           'three_same',\n",
       "           'threes',\n",
       "           'two_pairs',\n",
       "           'twos',\n",
       "           'yatzy'})"
      ]
     },
     "execution_count": null,
     "metadata": {},
     "output_type": "execute_result"
    }
   ],
   "source": [
    "categories"
   ]
  },
  {
   "cell_type": "code",
   "execution_count": null,
   "id": "726be0cd",
   "metadata": {},
   "outputs": [
    {
     "data": {
      "text/plain": [
       "(1, 2, 3, 4, 5)"
      ]
     },
     "execution_count": null,
     "metadata": {},
     "output_type": "execute_result"
    }
   ],
   "source": [
    "# dice values\n",
    "dice_vals = [5, 4, 3, 2, 1]\n",
    "sorted_vals = tuple(sorted(dice_vals))\n",
    "sorted_vals"
   ]
  },
  {
   "cell_type": "code",
   "execution_count": null,
   "id": "dfc50c01",
   "metadata": {},
   "outputs": [
    {
     "data": {
      "text/plain": [
       "15"
      ]
     },
     "execution_count": null,
     "metadata": {},
     "output_type": "execute_result"
    }
   ],
   "source": [
    "score = sum(sorted_vals)\n",
    "score"
   ]
  },
  {
   "cell_type": "code",
   "execution_count": null,
   "id": "c07289ed",
   "metadata": {},
   "outputs": [
    {
     "data": {
      "text/plain": [
       "[3, 1, 6, 3, 4]"
      ]
     },
     "execution_count": null,
     "metadata": {},
     "output_type": "execute_result"
    }
   ],
   "source": [
    "random.choices([1,2,3,4,5,6], k=5)"
   ]
  },
  {
   "cell_type": "code",
   "execution_count": null,
   "id": "37c9befc",
   "metadata": {},
   "outputs": [],
   "source": [
    "#| export\n",
    "def roll_n_dice(n):\n",
    "    return random.choices([1,2,3,4,5,6], k=n)"
   ]
  },
  {
   "cell_type": "code",
   "execution_count": null,
   "id": "2b5c2c65",
   "metadata": {},
   "outputs": [
    {
     "data": {
      "text/plain": [
       "[2, 1, 4, 2, 5]"
      ]
     },
     "execution_count": null,
     "metadata": {},
     "output_type": "execute_result"
    }
   ],
   "source": [
    "roll_n_dice(5)"
   ]
  },
  {
   "cell_type": "markdown",
   "id": "a143454b",
   "metadata": {},
   "source": [
    "## Planning more about how to represent state and actions"
   ]
  },
  {
   "cell_type": "markdown",
   "id": "34edb5b8",
   "metadata": {},
   "source": [
    "Okay, thinking about actions.\n",
    "\n",
    "I would have 2 rolls left.\n",
    "\n",
    "I can choose what dices to hold and which to re-roll. So basically 5 long binary word.\n",
    "\n",
    "I can also choose small straight category, but no chance as its taken already.\n",
    "\n",
    "I can also choose to set zero to any category that I've not taken already.\n",
    "\n",
    "so action could be like\n",
    "```\n",
    "action = [00000, \"small_straight\", None]\n",
    "# or\n",
    "action = [11000, None, None]\n",
    "# or\n",
    "action = [00000, None, \"ones\"]\n",
    "```\n",
    "\n",
    "I need to have a function to compute possible actions.\n",
    "* allow re-roll if \"rolls left\" is > 0\n",
    "* check which categories can be selected\n",
    "* which categories could be set to zero"
   ]
  },
  {
   "cell_type": "markdown",
   "id": "6772914f",
   "metadata": {},
   "source": [
    "## Back to implementing"
   ]
  },
  {
   "cell_type": "code",
   "execution_count": null,
   "id": "90ba0bd7",
   "metadata": {},
   "outputs": [],
   "source": [
    "#| export\n",
    "@dataclass\n",
    "class State:\n",
    "    dice_values: tuple[int, ...]\n",
    "    rolls_left: int\n",
    "    categories_picked: frozenset[str]"
   ]
  },
  {
   "cell_type": "code",
   "execution_count": null,
   "id": "a80fa5d2",
   "metadata": {},
   "outputs": [
    {
     "data": {
      "text/plain": [
       "State(dice_values=(1, 2, 3, 4, 5), rolls_left=2, categories_picked=frozenset({'chance', 'large_straight', 'yatzy'}))"
      ]
     },
     "execution_count": null,
     "metadata": {},
     "output_type": "execute_result"
    }
   ],
   "source": [
    "state = State((1, 2, 3, 4, 5), 2, frozenset({'chance', 'large_straight', 'yatzy'}))\n",
    "state"
   ]
  },
  {
   "cell_type": "code",
   "execution_count": null,
   "id": "a6cec164",
   "metadata": {},
   "outputs": [],
   "source": [
    "#| export\n",
    "@dataclass\n",
    "class Action:\n",
    "    type: Literal[\"reroll\", \"score\"]\n",
    "    value: tuple[int, ...] | str"
   ]
  },
  {
   "cell_type": "code",
   "execution_count": null,
   "id": "eabd10c9",
   "metadata": {},
   "outputs": [
    {
     "data": {
      "text/plain": [
       "Action(type='reroll', value=(0, 0, 1, 0, 0))"
      ]
     },
     "execution_count": null,
     "metadata": {},
     "output_type": "execute_result"
    }
   ],
   "source": [
    "Action(\"reroll\", (0,0,1,0,0))"
   ]
  },
  {
   "cell_type": "code",
   "execution_count": null,
   "id": "7ca0e0e2",
   "metadata": {},
   "outputs": [
    {
     "data": {
      "text/plain": [
       "Action(type='score', value='ones')"
      ]
     },
     "execution_count": null,
     "metadata": {},
     "output_type": "execute_result"
    }
   ],
   "source": [
    "Action(\"score\", \"ones\")"
   ]
  },
  {
   "cell_type": "code",
   "execution_count": null,
   "id": "60b799c4",
   "metadata": {},
   "outputs": [],
   "source": [
    "#| export\n",
    "reroll_masks = list(itertools.product((0,1), repeat=5))"
   ]
  },
  {
   "cell_type": "code",
   "execution_count": null,
   "id": "bd3d3659",
   "metadata": {},
   "outputs": [
    {
     "data": {
      "text/plain": [
       "[(0, 0, 0, 0, 0),\n",
       " (0, 0, 0, 0, 1),\n",
       " (0, 0, 0, 1, 0),\n",
       " (0, 0, 0, 1, 1),\n",
       " (0, 0, 1, 0, 0),\n",
       " (0, 0, 1, 0, 1),\n",
       " (0, 0, 1, 1, 0),\n",
       " (0, 0, 1, 1, 1),\n",
       " (0, 1, 0, 0, 0),\n",
       " (0, 1, 0, 0, 1),\n",
       " (0, 1, 0, 1, 0),\n",
       " (0, 1, 0, 1, 1),\n",
       " (0, 1, 1, 0, 0),\n",
       " (0, 1, 1, 0, 1),\n",
       " (0, 1, 1, 1, 0),\n",
       " (0, 1, 1, 1, 1),\n",
       " (1, 0, 0, 0, 0),\n",
       " (1, 0, 0, 0, 1),\n",
       " (1, 0, 0, 1, 0),\n",
       " (1, 0, 0, 1, 1),\n",
       " (1, 0, 1, 0, 0),\n",
       " (1, 0, 1, 0, 1),\n",
       " (1, 0, 1, 1, 0),\n",
       " (1, 0, 1, 1, 1),\n",
       " (1, 1, 0, 0, 0),\n",
       " (1, 1, 0, 0, 1),\n",
       " (1, 1, 0, 1, 0),\n",
       " (1, 1, 0, 1, 1),\n",
       " (1, 1, 1, 0, 0),\n",
       " (1, 1, 1, 0, 1),\n",
       " (1, 1, 1, 1, 0),\n",
       " (1, 1, 1, 1, 1)]"
      ]
     },
     "execution_count": null,
     "metadata": {},
     "output_type": "execute_result"
    }
   ],
   "source": [
    "reroll_masks"
   ]
  },
  {
   "cell_type": "code",
   "execution_count": null,
   "id": "d52000ff",
   "metadata": {},
   "outputs": [
    {
     "data": {
      "text/plain": [
       "[Action(type='reroll', value=(0, 0, 0, 0, 0)),\n",
       " Action(type='reroll', value=(0, 0, 0, 0, 1)),\n",
       " Action(type='reroll', value=(0, 0, 0, 1, 0)),\n",
       " Action(type='reroll', value=(0, 0, 0, 1, 1)),\n",
       " Action(type='reroll', value=(0, 0, 1, 0, 0)),\n",
       " Action(type='reroll', value=(0, 0, 1, 0, 1)),\n",
       " Action(type='reroll', value=(0, 0, 1, 1, 0)),\n",
       " Action(type='reroll', value=(0, 0, 1, 1, 1)),\n",
       " Action(type='reroll', value=(0, 1, 0, 0, 0)),\n",
       " Action(type='reroll', value=(0, 1, 0, 0, 1)),\n",
       " Action(type='reroll', value=(0, 1, 0, 1, 0)),\n",
       " Action(type='reroll', value=(0, 1, 0, 1, 1)),\n",
       " Action(type='reroll', value=(0, 1, 1, 0, 0)),\n",
       " Action(type='reroll', value=(0, 1, 1, 0, 1)),\n",
       " Action(type='reroll', value=(0, 1, 1, 1, 0)),\n",
       " Action(type='reroll', value=(0, 1, 1, 1, 1)),\n",
       " Action(type='reroll', value=(1, 0, 0, 0, 0)),\n",
       " Action(type='reroll', value=(1, 0, 0, 0, 1)),\n",
       " Action(type='reroll', value=(1, 0, 0, 1, 0)),\n",
       " Action(type='reroll', value=(1, 0, 0, 1, 1)),\n",
       " Action(type='reroll', value=(1, 0, 1, 0, 0)),\n",
       " Action(type='reroll', value=(1, 0, 1, 0, 1)),\n",
       " Action(type='reroll', value=(1, 0, 1, 1, 0)),\n",
       " Action(type='reroll', value=(1, 0, 1, 1, 1)),\n",
       " Action(type='reroll', value=(1, 1, 0, 0, 0)),\n",
       " Action(type='reroll', value=(1, 1, 0, 0, 1)),\n",
       " Action(type='reroll', value=(1, 1, 0, 1, 0)),\n",
       " Action(type='reroll', value=(1, 1, 0, 1, 1)),\n",
       " Action(type='reroll', value=(1, 1, 1, 0, 0)),\n",
       " Action(type='reroll', value=(1, 1, 1, 0, 1)),\n",
       " Action(type='reroll', value=(1, 1, 1, 1, 0)),\n",
       " Action(type='reroll', value=(1, 1, 1, 1, 1))]"
      ]
     },
     "execution_count": null,
     "metadata": {},
     "output_type": "execute_result"
    }
   ],
   "source": [
    "available_actions = []\n",
    "if state.rolls_left > 0:\n",
    "    rerolls = [Action(\"reroll\", mask) for mask in reroll_masks]\n",
    "    available_actions.extend(rerolls)\n",
    "available_actions"
   ]
  },
  {
   "cell_type": "code",
   "execution_count": null,
   "id": "6f0191fa",
   "metadata": {},
   "outputs": [
    {
     "data": {
      "text/plain": [
       "frozenset({'fives',\n",
       "           'four_same',\n",
       "           'fours',\n",
       "           'full_house',\n",
       "           'one_pair',\n",
       "           'ones',\n",
       "           'sixes',\n",
       "           'small_straight',\n",
       "           'three_same',\n",
       "           'threes',\n",
       "           'two_pairs',\n",
       "           'twos'})"
      ]
     },
     "execution_count": null,
     "metadata": {},
     "output_type": "execute_result"
    }
   ],
   "source": [
    "can_select = categories - state.categories_picked\n",
    "can_select"
   ]
  },
  {
   "cell_type": "code",
   "execution_count": null,
   "id": "2c1373cc",
   "metadata": {},
   "outputs": [],
   "source": [
    "#| export\n",
    "def score_ns(n, values):\n",
    "    return n * values.count(n)\n",
    "\n",
    "assert score_ns(3, (1,2,3,4,5)) == 3\n",
    "assert score_ns(2, (2,2,2,3,3)) == 6\n",
    "assert score_ns(6, (1,2,3,4,5)) == 0"
   ]
  },
  {
   "cell_type": "code",
   "execution_count": null,
   "id": "b304c2fd",
   "metadata": {},
   "outputs": [],
   "source": [
    "#| export\n",
    "def n_same(n, values):\n",
    "    counts = Counter(values)\n",
    "    return [k for k, v in counts.items() if v >= n]\n",
    "\n",
    "assert n_same(2, (1,2,2,3,3)) == [2, 3]\n",
    "assert n_same(2, (1,2,3,4,5)) == []\n",
    "\n",
    "def score_n_same(n, values):\n",
    "    sames = n_same(2, values)\n",
    "    if len(sames) == 0: return 0\n",
    "    return n * max(sames)\n",
    "\n",
    "assert score_n_same(2, (3,3,4,4,6)) == 8\n",
    "assert score_n_same(2, (1,2,3,4,6)) == 0"
   ]
  },
  {
   "cell_type": "code",
   "execution_count": null,
   "id": "63eb6c0b",
   "metadata": {},
   "outputs": [],
   "source": [
    "#| export\n",
    "def score_two_pairs(values):\n",
    "    pairs = n_same(2, values)\n",
    "    if len(pairs) == 2:\n",
    "        return 2 * sum(pairs)\n",
    "    return 0\n",
    "\n",
    "assert score_two_pairs((1,1,2,2,3)) == 6\n",
    "assert score_two_pairs((1,1,2,3,4)) == 0\n",
    "assert score_two_pairs((1,1,1,1,2)) == 0"
   ]
  },
  {
   "cell_type": "code",
   "execution_count": null,
   "id": "52804298",
   "metadata": {},
   "outputs": [],
   "source": [
    "#| export\n",
    "def score_full_house(values):\n",
    "    pairs = n_same(2, values)\n",
    "    three_sames = n_same(3, values)\n",
    "    if pairs and three_sames:\n",
    "        pairs.remove(three_sames[0])\n",
    "        if len(pairs) > 0: return sum(values)\n",
    "    return 0\n",
    "\n",
    "assert score_full_house((2,2,3,3,3)) == 13\n",
    "assert score_full_house((1,2,3,3,3)) == 0"
   ]
  },
  {
   "cell_type": "code",
   "execution_count": null,
   "id": "bbbe4f52",
   "metadata": {},
   "outputs": [],
   "source": [
    "#| export\n",
    "def score_small_straight(values):\n",
    "    return sum(values) if values == (1,2,3,4,5) else 0\n",
    "\n",
    "def score_large_straight(values):\n",
    "    return sum(values) if values == (2,3,4,5,6) else 0\n",
    "\n",
    "assert score_small_straight((1,2,3,4,5)) == 15\n",
    "assert score_large_straight((2,3,4,5,6)) == 20"
   ]
  },
  {
   "cell_type": "code",
   "execution_count": null,
   "id": "6f28fa69",
   "metadata": {},
   "outputs": [],
   "source": [
    "#| export\n",
    "score_fn = {\n",
    "    \"ones\": partial(score_ns, 1),\n",
    "    \"twos\": partial(score_ns, 2),\n",
    "    \"threes\": partial(score_ns, 3),\n",
    "    \"fours\": partial(score_ns, 4),\n",
    "    \"fives\": partial(score_ns, 5),\n",
    "    \"sixes\": partial(score_ns, 6),\n",
    "    \"one_pair\": partial(score_n_same, 2),\n",
    "    \"two_pairs\": score_two_pairs,\n",
    "    \"three_same\": partial(score_n_same, 3),\n",
    "    \"four_same\": partial(score_n_same, 4),\n",
    "    \"small_straight\": score_small_straight,\n",
    "    \"large_straight\": score_large_straight,\n",
    "    \"full_house\": score_full_house,\n",
    "    \"chance\": lambda x: sum(x),\n",
    "    \"yatzy\": partial(score_n_same, 5),\n",
    "}"
   ]
  },
  {
   "cell_type": "code",
   "execution_count": null,
   "id": "3c703b93",
   "metadata": {},
   "outputs": [
    {
     "name": "stdout",
     "output_type": "stream",
     "text": [
      "four_same 0\n",
      "three_same 0\n",
      "threes 3\n",
      "small_straight 15\n",
      "fours 4\n",
      "fives 5\n",
      "sixes 0\n",
      "ones 1\n",
      "one_pair 0\n",
      "two_pairs 0\n",
      "full_house 0\n",
      "twos 2\n"
     ]
    }
   ],
   "source": [
    "for category in can_select:\n",
    "    score = score_fn[category](state.dice_values)\n",
    "    print(category, score)"
   ]
  },
  {
   "cell_type": "code",
   "execution_count": null,
   "id": "c8079a0b",
   "metadata": {},
   "outputs": [
    {
     "data": {
      "text/plain": [
       "[Action(type='reroll', value=(0, 0, 0, 0, 0)),\n",
       " Action(type='reroll', value=(0, 0, 0, 0, 1)),\n",
       " Action(type='reroll', value=(0, 0, 0, 1, 0)),\n",
       " Action(type='reroll', value=(0, 0, 0, 1, 1)),\n",
       " Action(type='reroll', value=(0, 0, 1, 0, 0)),\n",
       " Action(type='reroll', value=(0, 0, 1, 0, 1)),\n",
       " Action(type='reroll', value=(0, 0, 1, 1, 0)),\n",
       " Action(type='reroll', value=(0, 0, 1, 1, 1)),\n",
       " Action(type='reroll', value=(0, 1, 0, 0, 0)),\n",
       " Action(type='reroll', value=(0, 1, 0, 0, 1)),\n",
       " Action(type='reroll', value=(0, 1, 0, 1, 0)),\n",
       " Action(type='reroll', value=(0, 1, 0, 1, 1)),\n",
       " Action(type='reroll', value=(0, 1, 1, 0, 0)),\n",
       " Action(type='reroll', value=(0, 1, 1, 0, 1)),\n",
       " Action(type='reroll', value=(0, 1, 1, 1, 0)),\n",
       " Action(type='reroll', value=(0, 1, 1, 1, 1)),\n",
       " Action(type='reroll', value=(1, 0, 0, 0, 0)),\n",
       " Action(type='reroll', value=(1, 0, 0, 0, 1)),\n",
       " Action(type='reroll', value=(1, 0, 0, 1, 0)),\n",
       " Action(type='reroll', value=(1, 0, 0, 1, 1)),\n",
       " Action(type='reroll', value=(1, 0, 1, 0, 0)),\n",
       " Action(type='reroll', value=(1, 0, 1, 0, 1)),\n",
       " Action(type='reroll', value=(1, 0, 1, 1, 0)),\n",
       " Action(type='reroll', value=(1, 0, 1, 1, 1)),\n",
       " Action(type='reroll', value=(1, 1, 0, 0, 0)),\n",
       " Action(type='reroll', value=(1, 1, 0, 0, 1)),\n",
       " Action(type='reroll', value=(1, 1, 0, 1, 0)),\n",
       " Action(type='reroll', value=(1, 1, 0, 1, 1)),\n",
       " Action(type='reroll', value=(1, 1, 1, 0, 0)),\n",
       " Action(type='reroll', value=(1, 1, 1, 0, 1)),\n",
       " Action(type='reroll', value=(1, 1, 1, 1, 0)),\n",
       " Action(type='reroll', value=(1, 1, 1, 1, 1))]"
      ]
     },
     "execution_count": null,
     "metadata": {},
     "output_type": "execute_result"
    }
   ],
   "source": [
    "available_actions"
   ]
  },
  {
   "cell_type": "code",
   "execution_count": null,
   "id": "45eea0f2",
   "metadata": {},
   "outputs": [
    {
     "data": {
      "text/plain": [
       "[Action(type='reroll', value=(0, 0, 0, 0, 0)),\n",
       " Action(type='reroll', value=(0, 0, 0, 0, 1)),\n",
       " Action(type='reroll', value=(0, 0, 0, 1, 0)),\n",
       " Action(type='reroll', value=(0, 0, 0, 1, 1)),\n",
       " Action(type='reroll', value=(0, 0, 1, 0, 0)),\n",
       " Action(type='reroll', value=(0, 0, 1, 0, 1)),\n",
       " Action(type='reroll', value=(0, 0, 1, 1, 0)),\n",
       " Action(type='reroll', value=(0, 0, 1, 1, 1)),\n",
       " Action(type='reroll', value=(0, 1, 0, 0, 0)),\n",
       " Action(type='reroll', value=(0, 1, 0, 0, 1)),\n",
       " Action(type='reroll', value=(0, 1, 0, 1, 0)),\n",
       " Action(type='reroll', value=(0, 1, 0, 1, 1)),\n",
       " Action(type='reroll', value=(0, 1, 1, 0, 0)),\n",
       " Action(type='reroll', value=(0, 1, 1, 0, 1)),\n",
       " Action(type='reroll', value=(0, 1, 1, 1, 0)),\n",
       " Action(type='reroll', value=(0, 1, 1, 1, 1)),\n",
       " Action(type='reroll', value=(1, 0, 0, 0, 0)),\n",
       " Action(type='reroll', value=(1, 0, 0, 0, 1)),\n",
       " Action(type='reroll', value=(1, 0, 0, 1, 0)),\n",
       " Action(type='reroll', value=(1, 0, 0, 1, 1)),\n",
       " Action(type='reroll', value=(1, 0, 1, 0, 0)),\n",
       " Action(type='reroll', value=(1, 0, 1, 0, 1)),\n",
       " Action(type='reroll', value=(1, 0, 1, 1, 0)),\n",
       " Action(type='reroll', value=(1, 0, 1, 1, 1)),\n",
       " Action(type='reroll', value=(1, 1, 0, 0, 0)),\n",
       " Action(type='reroll', value=(1, 1, 0, 0, 1)),\n",
       " Action(type='reroll', value=(1, 1, 0, 1, 0)),\n",
       " Action(type='reroll', value=(1, 1, 0, 1, 1)),\n",
       " Action(type='reroll', value=(1, 1, 1, 0, 0)),\n",
       " Action(type='reroll', value=(1, 1, 1, 0, 1)),\n",
       " Action(type='reroll', value=(1, 1, 1, 1, 0)),\n",
       " Action(type='reroll', value=(1, 1, 1, 1, 1)),\n",
       " Action(type='score', value='four_same'),\n",
       " Action(type='score', value='three_same'),\n",
       " Action(type='score', value='threes'),\n",
       " Action(type='score', value='small_straight'),\n",
       " Action(type='score', value='fours'),\n",
       " Action(type='score', value='fives'),\n",
       " Action(type='score', value='sixes'),\n",
       " Action(type='score', value='ones'),\n",
       " Action(type='score', value='one_pair'),\n",
       " Action(type='score', value='two_pairs'),\n",
       " Action(type='score', value='full_house'),\n",
       " Action(type='score', value='twos')]"
      ]
     },
     "execution_count": null,
     "metadata": {},
     "output_type": "execute_result"
    }
   ],
   "source": [
    "for cat in can_select:\n",
    "    score = score_fn[cat](state.dice_values)\n",
    "    available_actions.append(Action(type=\"score\", value=cat))\n",
    "available_actions"
   ]
  },
  {
   "cell_type": "code",
   "execution_count": null,
   "id": "50938185",
   "metadata": {},
   "outputs": [],
   "source": [
    "#| export\n",
    "def get_available_actions(state: State) -> list[Action]:\n",
    "    available_actions = []\n",
    "    if state.rolls_left > 0:\n",
    "        rerolls = [Action(\"reroll\", mask) for mask in reroll_masks]\n",
    "        available_actions.extend(rerolls)\n",
    "    \n",
    "    can_select = categories - state.categories_picked\n",
    "    for cat in can_select:\n",
    "        score = score_fn[cat](state.dice_values)\n",
    "        if can_select:\n",
    "            available_actions.append(Action(type=\"score\", value=cat))\n",
    "    \n",
    "    return available_actions"
   ]
  },
  {
   "cell_type": "code",
   "execution_count": null,
   "id": "29a7a541",
   "metadata": {},
   "outputs": [
    {
     "data": {
      "text/plain": [
       "[Action(type='reroll', value=(0, 0, 0, 0, 0)),\n",
       " Action(type='reroll', value=(0, 0, 0, 0, 1)),\n",
       " Action(type='reroll', value=(0, 0, 0, 1, 0)),\n",
       " Action(type='reroll', value=(0, 0, 0, 1, 1)),\n",
       " Action(type='reroll', value=(0, 0, 1, 0, 0)),\n",
       " Action(type='reroll', value=(0, 0, 1, 0, 1)),\n",
       " Action(type='reroll', value=(0, 0, 1, 1, 0)),\n",
       " Action(type='reroll', value=(0, 0, 1, 1, 1)),\n",
       " Action(type='reroll', value=(0, 1, 0, 0, 0)),\n",
       " Action(type='reroll', value=(0, 1, 0, 0, 1)),\n",
       " Action(type='reroll', value=(0, 1, 0, 1, 0)),\n",
       " Action(type='reroll', value=(0, 1, 0, 1, 1)),\n",
       " Action(type='reroll', value=(0, 1, 1, 0, 0)),\n",
       " Action(type='reroll', value=(0, 1, 1, 0, 1)),\n",
       " Action(type='reroll', value=(0, 1, 1, 1, 0)),\n",
       " Action(type='reroll', value=(0, 1, 1, 1, 1)),\n",
       " Action(type='reroll', value=(1, 0, 0, 0, 0)),\n",
       " Action(type='reroll', value=(1, 0, 0, 0, 1)),\n",
       " Action(type='reroll', value=(1, 0, 0, 1, 0)),\n",
       " Action(type='reroll', value=(1, 0, 0, 1, 1)),\n",
       " Action(type='reroll', value=(1, 0, 1, 0, 0)),\n",
       " Action(type='reroll', value=(1, 0, 1, 0, 1)),\n",
       " Action(type='reroll', value=(1, 0, 1, 1, 0)),\n",
       " Action(type='reroll', value=(1, 0, 1, 1, 1)),\n",
       " Action(type='reroll', value=(1, 1, 0, 0, 0)),\n",
       " Action(type='reroll', value=(1, 1, 0, 0, 1)),\n",
       " Action(type='reroll', value=(1, 1, 0, 1, 0)),\n",
       " Action(type='reroll', value=(1, 1, 0, 1, 1)),\n",
       " Action(type='reroll', value=(1, 1, 1, 0, 0)),\n",
       " Action(type='reroll', value=(1, 1, 1, 0, 1)),\n",
       " Action(type='reroll', value=(1, 1, 1, 1, 0)),\n",
       " Action(type='reroll', value=(1, 1, 1, 1, 1)),\n",
       " Action(type='score', value='four_same'),\n",
       " Action(type='score', value='three_same'),\n",
       " Action(type='score', value='threes'),\n",
       " Action(type='score', value='small_straight'),\n",
       " Action(type='score', value='fours'),\n",
       " Action(type='score', value='fives'),\n",
       " Action(type='score', value='sixes'),\n",
       " Action(type='score', value='ones'),\n",
       " Action(type='score', value='one_pair'),\n",
       " Action(type='score', value='two_pairs'),\n",
       " Action(type='score', value='full_house'),\n",
       " Action(type='score', value='twos')]"
      ]
     },
     "execution_count": null,
     "metadata": {},
     "output_type": "execute_result"
    }
   ],
   "source": [
    "get_available_actions(state)"
   ]
  },
  {
   "cell_type": "markdown",
   "id": "e2cdccbd",
   "metadata": {},
   "source": [
    "**What I have**\n",
    "\n",
    "* state representation\n",
    "* action representation\n",
    "* categories\n",
    "* dice rolling\n",
    "* functions to check if dice values fit category\n",
    "* available actions function\n",
    "\n",
    "**What is missing**\n",
    "* transition function\n",
    "    * logic for reroll\n",
    "    * logic for selecting zeroing categories\n",
    "\n",
    "**Transition function**\n",
    "\n",
    "state + action --> next state\n",
    "\n",
    "```python\n",
    "next_state = transition_func(state, action)\n",
    "```\n",
    "\n",
    "**What transitions are there?**\n",
    "\n",
    "Action types:\n",
    "* reroll\n",
    "* zero\n",
    "* score\n",
    "\n",
    "**reroll**\n",
    "* reroll the dice according to mask\n",
    "* set new dice to state\n",
    "* decrement rolls left\n",
    "\n",
    "**zero**\n",
    "* set the category as selected\n",
    "* check wheter categories left and set terminal state if not any left\n",
    "* reroll whole dice\n",
    "* reset rolls left to 2\n",
    "\n",
    "**score**\n",
    "* compute score\n",
    "* set the category as selected\n",
    "* add score to scoreboard or total sum\n",
    "* check wheter categories left and set terminal state if not any left\n",
    "* reroll whole dice\n",
    "* reset rolls left to 2\n"
   ]
  },
  {
   "cell_type": "markdown",
   "id": "7077a3bd",
   "metadata": {},
   "source": [
    "Let's have a state and action to work with."
   ]
  },
  {
   "cell_type": "code",
   "execution_count": null,
   "id": "3d1301e2",
   "metadata": {},
   "outputs": [
    {
     "data": {
      "text/plain": [
       "State(dice_values=(1, 2, 3, 4, 5), rolls_left=2, categories_picked=frozenset({'chance', 'large_straight', 'yatzy'}))"
      ]
     },
     "execution_count": null,
     "metadata": {},
     "output_type": "execute_result"
    }
   ],
   "source": [
    "state"
   ]
  },
  {
   "cell_type": "code",
   "execution_count": null,
   "id": "72b65d07",
   "metadata": {},
   "outputs": [
    {
     "data": {
      "text/plain": [
       "Action(type='reroll', value=(1, 1, 1, 0, 0))"
      ]
     },
     "execution_count": null,
     "metadata": {},
     "output_type": "execute_result"
    }
   ],
   "source": [
    "action = Action(type='reroll', value=(1, 1, 1, 0, 0))\n",
    "action"
   ]
  },
  {
   "cell_type": "markdown",
   "id": "07fcc9ec",
   "metadata": {},
   "source": [
    "What it would mean to transition to next state given this state and action?"
   ]
  },
  {
   "cell_type": "code",
   "execution_count": null,
   "id": "fdc15ea2",
   "metadata": {},
   "outputs": [],
   "source": [
    "#| export\n",
    "def reroll_masked(values, mask):\n",
    "    next_values = list(values)\n",
    "    reroll = roll_n_dice(5)\n",
    "    for i, bit in enumerate(mask):\n",
    "        if bit == 1:\n",
    "            next_values[i] = reroll[i]\n",
    "    return tuple(sorted(next_values))"
   ]
  },
  {
   "cell_type": "code",
   "execution_count": null,
   "id": "68d97df2",
   "metadata": {},
   "outputs": [
    {
     "data": {
      "text/plain": [
       "(4, 4, 5, 5, 6)"
      ]
     },
     "execution_count": null,
     "metadata": {},
     "output_type": "execute_result"
    }
   ],
   "source": [
    "reroll_masked((1,2,3,4,5), (1,1,1,0,0))"
   ]
  },
  {
   "cell_type": "code",
   "execution_count": null,
   "id": "f321f0af",
   "metadata": {},
   "outputs": [],
   "source": [
    "#| export\n",
    "def transition_func(state: State, action: Action):\n",
    "    match action.type:\n",
    "        case \"reroll\":\n",
    "            assert state.rolls_left > 0\n",
    "            new_values = reroll_masked(state.dice_values, action.value)\n",
    "            return State(new_values, state.rolls_left - 1, state.categories_picked)\n",
    "        case \"score\":\n",
    "            assert action.value not in state.categories_picked\n",
    "            new_categories = state.categories_picked | {action.value}\n",
    "            categories_left = categories - state.categories_picked\n",
    "            # TODO: scoreboard stuff\n",
    "            if not categories_left: return TERMINAL_STATE\n",
    "            new_values = tuple(sorted(roll_n_dice(5)))\n",
    "            return State(new_values, 2, frozenset(new_categories))\n"
   ]
  },
  {
   "cell_type": "code",
   "execution_count": null,
   "id": "a68796d1",
   "metadata": {},
   "outputs": [
    {
     "data": {
      "text/plain": [
       "State(dice_values=(1, 2, 3, 4, 5), rolls_left=1, categories_picked=frozenset({'chance', 'large_straight', 'yatzy'}))"
      ]
     },
     "execution_count": null,
     "metadata": {},
     "output_type": "execute_result"
    }
   ],
   "source": [
    "transition_func(state, action)"
   ]
  },
  {
   "cell_type": "code",
   "execution_count": null,
   "id": "8c796125",
   "metadata": {},
   "outputs": [
    {
     "data": {
      "text/plain": [
       "State(dice_values=(1, 2, 2, 6, 6), rolls_left=2, categories_picked=frozenset({'chance', 'ones', 'large_straight', 'yatzy'}))"
      ]
     },
     "execution_count": null,
     "metadata": {},
     "output_type": "execute_result"
    }
   ],
   "source": [
    "transition_func(state, Action(\"score\", \"ones\"))"
   ]
  },
  {
   "cell_type": "raw",
   "id": "4a854ee9",
   "metadata": {},
   "source": [
    "state = State(sorted(roll_n_dice(5)), 2, frozenset())\n",
    "while True:\n",
    "    actions = get_available_actions(state)\n",
    "    # for i, action in enumerate(actions): print(i, action)\n",
    "    print(f\"State: {state}, choose action (i) or quit (q)\")\n",
    "    inp = input(\">\")\n",
    "    if inp == \"q\": break\n",
    "    \n",
    "    if inp.isdigit():\n",
    "        action = Action(\"reroll\", tuple(int(i) for i in inp))\n",
    "    else:\n",
    "        action = Action(\"score\", inp)\n",
    "    \n",
    "    assert action in actions\n",
    "    \n",
    "    # idx = int(inp)\n",
    "    state = transition_func(state, action)"
   ]
  },
  {
   "cell_type": "code",
   "execution_count": null,
   "id": "d4bab96c",
   "metadata": {},
   "outputs": [
    {
     "name": "stdout",
     "output_type": "stream",
     "text": [
      "# AUTOGENERATED! DO NOT EDIT! File to edit: ../nbs/yatzy_dup1.ipynb.\r\n",
      "\r\n",
      "# %% auto 0\r\n",
      "__all__ = ['categories', 'reroll_masks', 'checkers', 'roll_n_dice', 'State', 'Action', 'has_ns', 'n_same', 'has_n_same',\r\n",
      "           'has_two_pairs', 'has_full_house', 'has_small_straight', 'has_large_straight', 'get_available_actions',\r\n",
      "           'reroll_masked', 'transition_func']\r\n",
      "\r\n",
      "# %% ../nbs/yatzy_dup1.ipynb 5\r\n",
      "import random\r\n",
      "from dataclasses import dataclass\r\n",
      "from typing import Literal\r\n",
      "import itertools\r\n",
      "from collections import Counter\r\n",
      "from functools import partial\r\n",
      "\r\n",
      "# %% ../nbs/yatzy_dup1.ipynb 6\r\n",
      "# categories\r\n",
      "\r\n",
      "categories = frozenset([\r\n",
      "    \"ones\",\r\n",
      "    \"twos\",\r\n",
      "    \"threes\",\r\n",
      "    \"fours\",\r\n",
      "    \"fives\",\r\n",
      "    \"sixes\",\r\n",
      "    \"one_pair\",\r\n",
      "    \"two_pairs\",\r\n",
      "    \"three_same\",\r\n",
      "    \"four_same\",\r\n",
      "    \"small_straight\",\r\n",
      "    \"large_straight\",\r\n",
      "    \"full_house\",\r\n",
      "    \"chance\",\r\n",
      "    \"yatzy\",\r\n",
      "])\r\n",
      "\r\n",
      "# %% ../nbs/yatzy_dup1.ipynb 11\r\n",
      "def roll_n_dice(n):\r\n",
      "    return random.choices([1,2,3,4,5,6], k=n)\r\n",
      "\r\n",
      "# %% ../nbs/yatzy_dup1.ipynb 16\r\n",
      "@dataclass\r\n",
      "class State:\r\n",
      "    dice_values: tuple[int, ...]\r\n",
      "    rolls_left: int\r\n",
      "    categories_picked: frozenset[str]\r\n",
      "\r\n",
      "# %% ../nbs/yatzy_dup1.ipynb 18\r\n",
      "@dataclass\r\n",
      "class Action:\r\n",
      "    type: Literal[\"reroll\", \"score\", \"zero\"]\r\n",
      "    value: tuple[int, ...] | str\r\n",
      "\r\n",
      "# %% ../nbs/yatzy_dup1.ipynb 20\r\n",
      "reroll_masks = list(itertools.product((0,1), repeat=5))\r\n",
      "\r\n",
      "# %% ../nbs/yatzy_dup1.ipynb 33\r\n",
      "def has_ns(n, values):\r\n",
      "    return n in values\r\n",
      "\r\n",
      "assert has_ns(3, (1,2,3,4,5))\r\n",
      "assert not has_ns(6, (1,2,3,4,5))\r\n",
      "\r\n",
      "def n_same(n, values):\r\n",
      "    counts = Counter(values)\r\n",
      "    return [k for k, v in counts.items() if v >= n]\r\n",
      "\r\n",
      "assert n_same(2, (1,2,2,3,3)) == [2, 3]\r\n",
      "\r\n",
      "def has_n_same(n, values):\r\n",
      "    return bool(n_same(n, values))\r\n",
      "\r\n",
      "def has_two_pairs(values):\r\n",
      "    pairs = n_same(2, values)\r\n",
      "    if len(pairs) == 2:\r\n",
      "        return True\r\n",
      "    return False\r\n",
      "\r\n",
      "assert has_two_pairs((1,1,2,2,3))\r\n",
      "assert not has_two_pairs((1,1,2,3,4))\r\n",
      "assert not has_two_pairs((1,1,1,1,2))\r\n",
      "\r\n",
      "def has_full_house(values):\r\n",
      "    pairs = n_same(2, values)\r\n",
      "    three_sames = n_same(3, values)\r\n",
      "    if pairs and three_sames:\r\n",
      "        pairs.remove(three_sames[0])\r\n",
      "        return len(pairs) > 0\r\n",
      "    return False\r\n",
      "\r\n",
      "assert has_full_house((2,2,3,3,3))\r\n",
      "assert not has_full_house((1,2,3,3,3))\r\n",
      "\r\n",
      "def has_small_straight(values):\r\n",
      "    return values == (1,2,3,4,5)\r\n",
      "\r\n",
      "def has_large_straight(values):\r\n",
      "    return values == (2,3,4,5,6)\r\n",
      "\r\n",
      "# %% ../nbs/yatzy_dup1.ipynb 35\r\n",
      "checkers = {\r\n",
      "    \"ones\": partial(has_ns, 1),\r\n",
      "    \"twos\": partial(has_ns, 2),\r\n",
      "    \"threes\": partial(has_ns, 3),\r\n",
      "    \"fours\": partial(has_ns, 4),\r\n",
      "    \"fives\": partial(has_ns, 5),\r\n",
      "    \"sixes\": partial(has_ns, 6),\r\n",
      "    \"one_pair\": partial(has_n_same, 2),\r\n",
      "    \"two_pairs\": has_two_pairs,\r\n",
      "    \"three_same\": partial(has_n_same, 3),\r\n",
      "    \"four_same\": partial(has_n_same, 4),\r\n",
      "    \"small_straight\": has_small_straight,\r\n",
      "    \"large_straight\": has_large_straight,\r\n",
      "    \"full_house\": has_full_house,\r\n",
      "    \"chance\": lambda x: x, # ???\r\n",
      "    \"yatzy\": partial(n_same, 5),\r\n",
      "}\r\n",
      "\r\n",
      "# %% ../nbs/yatzy_dup1.ipynb 39\r\n",
      "def get_available_actions(state: State) -> list[Action]:\r\n",
      "    available_actions = []\r\n",
      "    if state.rolls_left > 0:\r\n",
      "        rerolls = [Action(\"reroll\", mask) for mask in reroll_masks]\r\n",
      "        available_actions.extend(rerolls)\r\n",
      "    \r\n",
      "    can_zero = categories - state.categories_picked\r\n",
      "    for cat in can_zero:\r\n",
      "        available_actions.append(Action(type=\"zero\", value=cat))\r\n",
      "        can_select = checkers[cat](state.dice_values)\r\n",
      "        if can_select:\r\n",
      "            available_actions.append(Action(type=\"score\", value=cat))\r\n",
      "    \r\n",
      "    return available_actions\r\n",
      "\r\n",
      "# %% ../nbs/yatzy_dup1.ipynb 46\r\n",
      "def reroll_masked(values, mask):\r\n",
      "    next_values = list(values)\r\n",
      "    mask = action.value\r\n",
      "    reroll = roll_n_dice(5)\r\n",
      "    for i, bit in enumerate(mask):\r\n",
      "        if bit == 1:\r\n",
      "            next_values[i] = reroll[i]\r\n",
      "    return tuple(sorted(next_values))\r\n",
      "\r\n",
      "# %% ../nbs/yatzy_dup1.ipynb 48\r\n",
      "def transition_func(state: State, action: Action):\r\n",
      "    match action.type:\r\n",
      "        case \"reroll\":\r\n",
      "            assert state.rolls_left > 0\r\n",
      "            new_values = reroll_masked(state.dice_values, action.value)\r\n",
      "            return State(new_values, state.rolls_left - 1, state.categories_picked)\r\n",
      "        case \"score\": ...\r\n",
      "        case \"zero\":\r\n",
      "            assert action.value not in state.categories_picked\r\n",
      "            new_categories = state.categories_picked | {action.value}\r\n",
      "            categories_left = categories - state.categories_picked\r\n",
      "            if not categories_left: return TERMINAL_STATE\r\n",
      "            new_values = tuple(sorted(roll_n_dice(5)))\r\n",
      "            return State(new_values, 2, frozenset(new_categories))\r\n"
     ]
    }
   ],
   "source": [
    "!cat yatzy/yatzy.py"
   ]
  }
 ],
 "metadata": {},
 "nbformat": 4,
 "nbformat_minor": 5
}
