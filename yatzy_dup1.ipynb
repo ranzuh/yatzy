{
 "cells": [
  {
   "cell_type": "markdown",
   "id": "33fd6d87",
   "metadata": {},
   "source": [
    "## Yatzy program"
   ]
  },
  {
   "cell_type": "markdown",
   "id": "b8221b92",
   "metadata": {},
   "source": [
    "## Initial planning"
   ]
  },
  {
   "cell_type": "markdown",
   "id": "68f18802",
   "metadata": {},
   "source": [
    "Yatzy program to play with and get policy and probabilities\n",
    "\n",
    "Features\n",
    "* encoding state\n",
    "* transition function for rules\n",
    "* checking terminal state and computing reward\n",
    "* actions to roll dice and select categories\n",
    "* value iteration to compute value function / policy\n",
    "* scorecard - which categories are used\n",
    "* check if category can be used\n",
    "\n",
    "Getting probabilities\n",
    "\n",
    "Your value iteration framework naturally gives you expected values (average scores), but if you want the full probability distribution of outcomes, you have a couple of options:\n",
    "\n",
    "Extend your existing transition function - Since you're already building transitions (state → action → next state), you can track probabilities through these transitions. This is essentially using the Markov chain structure you're already creating.\n",
    "\n",
    "Monte Carlo simulation - Once you have your optimal policy, you can run many simulations and collect the distribution of final scores empirically.\n",
    "\n",
    "The first approach is more exact but computationally intensive. The second is simpler to implement and often sufficient."
   ]
  },
  {
   "cell_type": "markdown",
   "id": "106e57ba",
   "metadata": {},
   "source": [
    "State representation\n",
    "- **Current dice values** - what you're working with right now\n",
    "    - a sorted version [1, 2, 3, 3, 5]\n",
    "- **Rolls left** - determines whether you can reroll or must score\n",
    "- **Filled categories** - which scoring options are still available\n",
    "\n",
    "state and value function\n",
    "```python\n",
    "# V = {state: value}\n",
    "state = (dice, rolls, categories)\n",
    "value = V[state]\n",
    "```\n",
    "\n",
    "**Start simple, optimize later:**\n",
    "\n",
    "1. Use the readable approach first: `state = (tuple(dice), rolls_left, frozenset(categories))`\n",
    "2. Get your basic game logic working (scoring, transitions, actions)\n",
    "3. Test with small examples\n",
    "4. If performance becomes an issue, add encoding functions later"
   ]
  },
  {
   "cell_type": "markdown",
   "id": "aa510c1f",
   "metadata": {},
   "source": [
    "## Summary of planning\n",
    "\n",
    "1. **Single-player** Yatzy to maximize score\n",
    "2. **State representation:** `(tuple(sorted_dice), rolls_left, frozenset(filled_categories))`\n",
    "3. **Use dict** for value function: `V[state] = value`\n",
    "4. **Start with readable format**, optimize encoding later if needed\n",
    "5. **Full Yatzy rules** (15 categories)\n",
    "\n",
    "**Plan to Start:**\n",
    "\n",
    "1. Define the 15 category names (as strings for frozenset)\n",
    "2. Write scoring functions for each category\n",
    "3. Implement dice rolling and state transitions\n",
    "4. Define valid actions (which dice to keep, which category to score)\n",
    "5. Build value iteration algorithm\n",
    "6. Test and iterate"
   ]
  },
  {
   "cell_type": "code",
   "execution_count": null,
   "id": "099c6679",
   "metadata": {
    "collapsed": true,
    "time_run": "7:09:02a"
   },
   "outputs": [
    {
     "data": {
      "text/plain": [
       "{'chance',\n",
       " 'fives',\n",
       " 'four_same',\n",
       " 'fours',\n",
       " 'full_house',\n",
       " 'large_straight',\n",
       " 'one_pair',\n",
       " 'ones',\n",
       " 'sixes',\n",
       " 'small_straight',\n",
       " 'three_same',\n",
       " 'threes',\n",
       " 'two_pairs',\n",
       " 'twos',\n",
       " 'yatzy'}"
      ]
     },
     "execution_count": 6,
     "metadata": {},
     "output_type": "execute_result"
    }
   ],
   "source": [
    "# categories\n",
    "\n",
    "categories = set([\n",
    "    \"ones\",\n",
    "    \"twos\",\n",
    "    \"threes\",\n",
    "    \"fours\",\n",
    "    \"fives\",\n",
    "    \"sixes\",\n",
    "    \"one_pair\",\n",
    "    \"two_pairs\",\n",
    "    \"three_same\",\n",
    "    \"four_same\",\n",
    "    \"small_straight\",\n",
    "    \"large_straight\",\n",
    "    \"full_house\",\n",
    "    \"chance\",\n",
    "    \"yatzy\",\n",
    "])\n",
    "categories"
   ]
  },
  {
   "cell_type": "code",
   "execution_count": null,
   "id": "726be0cd",
   "metadata": {
    "time_run": "7:09:02a"
   },
   "outputs": [
    {
     "data": {
      "text/plain": [
       "(1, 2, 3, 4, 5)"
      ]
     },
     "execution_count": 8,
     "metadata": {},
     "output_type": "execute_result"
    }
   ],
   "source": [
    "# dice values\n",
    "dice_vals = [5, 4, 3, 2, 1]\n",
    "sorted_vals = tuple(sorted(dice_vals))\n",
    "sorted_vals"
   ]
  },
  {
   "cell_type": "code",
   "execution_count": null,
   "id": "dfc50c01",
   "metadata": {
    "time_run": "7:09:02a"
   },
   "outputs": [
    {
     "data": {
      "text/plain": [
       "15"
      ]
     },
     "execution_count": 10,
     "metadata": {},
     "output_type": "execute_result"
    }
   ],
   "source": [
    "score = sum(sorted_vals)\n",
    "score"
   ]
  },
  {
   "cell_type": "code",
   "execution_count": null,
   "id": "c07289ed",
   "metadata": {
    "time_run": "7:09:02a"
   },
   "outputs": [
    {
     "data": {
      "text/plain": [
       "[1, 4, 5, 5, 3]"
      ]
     },
     "execution_count": 12,
     "metadata": {},
     "output_type": "execute_result"
    }
   ],
   "source": [
    "import random\n",
    "\n",
    "random.choices([1,2,3,4,5,6], k=5)"
   ]
  },
  {
   "cell_type": "code",
   "execution_count": null,
   "id": "37c9befc",
   "metadata": {
    "time_run": "7:09:02a"
   },
   "outputs": [
    {
     "data": {
      "text/plain": [
       "[2, 3, 6, 3, 4]"
      ]
     },
     "execution_count": 14,
     "metadata": {},
     "output_type": "execute_result"
    }
   ],
   "source": [
    "def roll_n_dice(n):\n",
    "    return random.choices([1,2,3,4,5,6], k=n)\n",
    "\n",
    "roll_n_dice(5)"
   ]
  },
  {
   "cell_type": "markdown",
   "id": "a143454b",
   "metadata": {},
   "source": [
    "## Planning more about how to represent state and actions"
   ]
  },
  {
   "cell_type": "markdown",
   "id": "34edb5b8",
   "metadata": {},
   "source": [
    "Okay, thinking about actions.\n",
    "\n",
    "I would have 2 rolls left.\n",
    "\n",
    "I can choose what dices to hold and which to re-roll. So basically 5 long binary word.\n",
    "\n",
    "I can also choose small straight category, but no chance as its taken already.\n",
    "\n",
    "I can also choose to set zero to any category that I've not taken already.\n",
    "\n",
    "so action could be like\n",
    "```\n",
    "action = [00000, \"small_straight\", None]\n",
    "# or\n",
    "action = [11000, None, None]\n",
    "# or\n",
    "action = [00000, None, \"ones\"]\n",
    "```\n",
    "\n",
    "I need to have a function to compute possible actions.\n",
    "* allow re-roll if \"rolls left\" is > 0\n",
    "* check which categories can be selected\n",
    "* which categories could be set to zero"
   ]
  },
  {
   "cell_type": "markdown",
   "id": "6772914f",
   "metadata": {},
   "source": [
    "## Back to implementing"
   ]
  },
  {
   "cell_type": "code",
   "execution_count": null,
   "id": "90ba0bd7",
   "metadata": {
    "time_run": "7:09:02a"
   },
   "outputs": [
    {
     "data": {
      "text/plain": [
       "State(dice_values=(1, 2, 3, 4, 5), rolls_left=2, categories_picked=frozenset({'chance', 'yatzy', 'large_straight'}))"
      ]
     },
     "execution_count": 16,
     "metadata": {},
     "output_type": "execute_result"
    }
   ],
   "source": [
    "from dataclasses import dataclass\n",
    "\n",
    "@dataclass\n",
    "class State:\n",
    "    dice_values: tuple[int, ...]\n",
    "    rolls_left: int\n",
    "    categories_picked: frozenset[str]\n",
    "\n",
    "state = State((1, 2, 3, 4, 5), 2, frozenset({'chance', 'large_straight', 'yatzy'}))\n",
    "state"
   ]
  },
  {
   "cell_type": "code",
   "execution_count": null,
   "id": "a6cec164",
   "metadata": {
    "time_run": "7:09:02a"
   },
   "outputs": [
    {
     "data": {
      "text/plain": [
       "Action(type='reroll', value=(0, 0, 1, 0, 0))"
      ]
     },
     "execution_count": 18,
     "metadata": {},
     "output_type": "execute_result"
    }
   ],
   "source": [
    "from typing import Literal\n",
    "\n",
    "@dataclass\n",
    "class Action:\n",
    "    type: Literal[\"reroll\", \"score\", \"zero\"]\n",
    "    value: tuple[int, ...] | str\n",
    "\n",
    "Action(\"reroll\", (0,0,1,0,0))"
   ]
  },
  {
   "cell_type": "code",
   "execution_count": null,
   "id": "60b799c4",
   "metadata": {
    "time_run": "7:09:02a"
   },
   "outputs": [
    {
     "data": {
      "text/plain": [
       "[(0, 0, 0, 0, 0),\n",
       " (0, 0, 0, 0, 1),\n",
       " (0, 0, 0, 1, 0),\n",
       " (0, 0, 0, 1, 1),\n",
       " (0, 0, 1, 0, 0),\n",
       " (0, 0, 1, 0, 1),\n",
       " (0, 0, 1, 1, 0),\n",
       " (0, 0, 1, 1, 1),\n",
       " (0, 1, 0, 0, 0),\n",
       " (0, 1, 0, 0, 1),\n",
       " (0, 1, 0, 1, 0),\n",
       " (0, 1, 0, 1, 1),\n",
       " (0, 1, 1, 0, 0),\n",
       " (0, 1, 1, 0, 1),\n",
       " (0, 1, 1, 1, 0),\n",
       " (0, 1, 1, 1, 1),\n",
       " (1, 0, 0, 0, 0),\n",
       " (1, 0, 0, 0, 1),\n",
       " (1, 0, 0, 1, 0),\n",
       " (1, 0, 0, 1, 1),\n",
       " (1, 0, 1, 0, 0),\n",
       " (1, 0, 1, 0, 1),\n",
       " (1, 0, 1, 1, 0),\n",
       " (1, 0, 1, 1, 1),\n",
       " (1, 1, 0, 0, 0),\n",
       " (1, 1, 0, 0, 1),\n",
       " (1, 1, 0, 1, 0),\n",
       " (1, 1, 0, 1, 1),\n",
       " (1, 1, 1, 0, 0),\n",
       " (1, 1, 1, 0, 1),\n",
       " (1, 1, 1, 1, 0),\n",
       " (1, 1, 1, 1, 1)]"
      ]
     },
     "execution_count": 20,
     "metadata": {},
     "output_type": "execute_result"
    }
   ],
   "source": [
    "import itertools\n",
    "\n",
    "reroll_masks = list(itertools.product((0,1), repeat=5))\n",
    "reroll_masks"
   ]
  },
  {
   "cell_type": "code",
   "execution_count": null,
   "id": "d52000ff",
   "metadata": {
    "time_run": "7:09:02a"
   },
   "outputs": [
    {
     "data": {
      "text/plain": [
       "[Action(type='reroll', value=(0, 0, 0, 0, 0)),\n",
       " Action(type='reroll', value=(0, 0, 0, 0, 1)),\n",
       " Action(type='reroll', value=(0, 0, 0, 1, 0)),\n",
       " Action(type='reroll', value=(0, 0, 0, 1, 1)),\n",
       " Action(type='reroll', value=(0, 0, 1, 0, 0)),\n",
       " Action(type='reroll', value=(0, 0, 1, 0, 1)),\n",
       " Action(type='reroll', value=(0, 0, 1, 1, 0)),\n",
       " Action(type='reroll', value=(0, 0, 1, 1, 1)),\n",
       " Action(type='reroll', value=(0, 1, 0, 0, 0)),\n",
       " Action(type='reroll', value=(0, 1, 0, 0, 1)),\n",
       " Action(type='reroll', value=(0, 1, 0, 1, 0)),\n",
       " Action(type='reroll', value=(0, 1, 0, 1, 1)),\n",
       " Action(type='reroll', value=(0, 1, 1, 0, 0)),\n",
       " Action(type='reroll', value=(0, 1, 1, 0, 1)),\n",
       " Action(type='reroll', value=(0, 1, 1, 1, 0)),\n",
       " Action(type='reroll', value=(0, 1, 1, 1, 1)),\n",
       " Action(type='reroll', value=(1, 0, 0, 0, 0)),\n",
       " Action(type='reroll', value=(1, 0, 0, 0, 1)),\n",
       " Action(type='reroll', value=(1, 0, 0, 1, 0)),\n",
       " Action(type='reroll', value=(1, 0, 0, 1, 1)),\n",
       " Action(type='reroll', value=(1, 0, 1, 0, 0)),\n",
       " Action(type='reroll', value=(1, 0, 1, 0, 1)),\n",
       " Action(type='reroll', value=(1, 0, 1, 1, 0)),\n",
       " Action(type='reroll', value=(1, 0, 1, 1, 1)),\n",
       " Action(type='reroll', value=(1, 1, 0, 0, 0)),\n",
       " Action(type='reroll', value=(1, 1, 0, 0, 1)),\n",
       " Action(type='reroll', value=(1, 1, 0, 1, 0)),\n",
       " Action(type='reroll', value=(1, 1, 0, 1, 1)),\n",
       " Action(type='reroll', value=(1, 1, 1, 0, 0)),\n",
       " Action(type='reroll', value=(1, 1, 1, 0, 1)),\n",
       " Action(type='reroll', value=(1, 1, 1, 1, 0)),\n",
       " Action(type='reroll', value=(1, 1, 1, 1, 1))]"
      ]
     },
     "execution_count": 22,
     "metadata": {},
     "output_type": "execute_result"
    }
   ],
   "source": [
    "available_actions = []\n",
    "if state.rolls_left > 0:\n",
    "    rerolls = [Action(\"reroll\", mask) for mask in reroll_masks]\n",
    "    available_actions.extend(rerolls)\n",
    "available_actions"
   ]
  },
  {
   "cell_type": "code",
   "execution_count": null,
   "id": "6f0191fa",
   "metadata": {
    "time_run": "7:09:03a"
   },
   "outputs": [
    {
     "data": {
      "text/plain": [
       "{'fives',\n",
       " 'four_same',\n",
       " 'fours',\n",
       " 'full_house',\n",
       " 'one_pair',\n",
       " 'ones',\n",
       " 'sixes',\n",
       " 'small_straight',\n",
       " 'three_same',\n",
       " 'threes',\n",
       " 'two_pairs',\n",
       " 'twos'}"
      ]
     },
     "execution_count": 24,
     "metadata": {},
     "output_type": "execute_result"
    }
   ],
   "source": [
    "can_zero = categories - state.categories_picked\n",
    "can_zero"
   ]
  },
  {
   "cell_type": "markdown",
   "id": "1b984c17",
   "metadata": {},
   "source": [
    "I need checker functions for\n",
    "* has_ones, has_twos, has_threes, ... I think I could have has_num(n) or something\n",
    "* has_pair\n",
    "* has_two_pairs\n",
    "* has_three_same\n",
    "* has_four_same\n",
    "* has_small_straight\n",
    "* has_large_straight\n",
    "* has_full_house\n",
    "* has_yatzy"
   ]
  },
  {
   "cell_type": "code",
   "execution_count": null,
   "id": "2da10dc3",
   "metadata": {
    "time_run": "7:09:03a"
   },
   "outputs": [
    {
     "data": {
      "text/plain": [
       "Counter({1: 1, 2: 1, 3: 1, 4: 1, 5: 1})"
      ]
     },
     "execution_count": 26,
     "metadata": {},
     "output_type": "execute_result"
    }
   ],
   "source": [
    "values = state.dice_values\n",
    "# has ones\n",
    "1 in values\n",
    "# n in values\n",
    "\n",
    "from collections import Counter\n",
    "\n",
    "Counter(values)"
   ]
  },
  {
   "cell_type": "code",
   "execution_count": null,
   "id": "763a4b00",
   "metadata": {
    "time_run": "7:09:03a"
   },
   "outputs": [
    {
     "data": {
      "text/plain": [
       "[1, 2]"
      ]
     },
     "execution_count": 28,
     "metadata": {},
     "output_type": "execute_result"
    }
   ],
   "source": [
    "counts = Counter((1, 1, 2, 2, 3))\n",
    "# Keys with count >= 2\n",
    "pairs = [k for k, v in counts.items() if v >= 2]\n",
    "pairs"
   ]
  },
  {
   "cell_type": "code",
   "execution_count": null,
   "id": "ff197f00",
   "metadata": {
    "time_run": "7:09:03a"
   },
   "outputs": [
    {
     "data": {
      "text/plain": [
       "[2]"
      ]
     },
     "execution_count": 30,
     "metadata": {},
     "output_type": "execute_result"
    }
   ],
   "source": [
    "counts = Counter((1, 2, 2, 2, 3))\n",
    "three_sames = [k for k, v in counts.items() if v >= 3]\n",
    "three_sames"
   ]
  },
  {
   "cell_type": "code",
   "execution_count": null,
   "id": "e528f9e0",
   "metadata": {
    "time_run": "7:09:03a"
   },
   "outputs": [
    {
     "data": {
      "text/plain": [
       "[5]"
      ]
     },
     "execution_count": 32,
     "metadata": {},
     "output_type": "execute_result"
    }
   ],
   "source": [
    "counts = Counter((1, 5, 5, 5, 5))\n",
    "four_sames = [k for k, v in counts.items() if v >= 4]\n",
    "four_sames"
   ]
  },
  {
   "cell_type": "code",
   "execution_count": null,
   "id": "727d3080",
   "metadata": {
    "time_run": "7:09:03a"
   },
   "outputs": [
    {
     "data": {
      "text/plain": [
       "[6]"
      ]
     },
     "execution_count": 34,
     "metadata": {},
     "output_type": "execute_result"
    }
   ],
   "source": [
    "counts = Counter((6,6,6,6,6))\n",
    "yatzy = [k for k, v in counts.items() if v >= 5]\n",
    "yatzy"
   ]
  },
  {
   "cell_type": "code",
   "execution_count": null,
   "id": "130bd433",
   "metadata": {
    "time_run": "7:09:08a"
   },
   "outputs": [
    {
     "data": {
      "text/plain": [
       "True"
      ]
     },
     "execution_count": 36,
     "metadata": {},
     "output_type": "execute_result"
    }
   ],
   "source": [
    "# Full house\n",
    "counts = Counter((5,5,5,6,6))\n",
    "pairs = [k for k, v in counts.items() if v >= 2]\n",
    "three_sames = [k for k, v in counts.items() if v >= 3]\n",
    "\n",
    "pairs.remove(three_sames[0])\n",
    "len(pairs) > 0"
   ]
  },
  {
   "cell_type": "code",
   "execution_count": null,
   "id": "41c72405",
   "metadata": {
    "time_run": "7:09:09a"
   },
   "outputs": [
    {
     "data": {
      "text/plain": [
       "True"
      ]
     },
     "execution_count": 38,
     "metadata": {},
     "output_type": "execute_result"
    }
   ],
   "source": [
    "# small straight\n",
    "values = (1, 2, 3, 4, 5)\n",
    "values == (1, 2, 3, 4, 5)\n",
    "\n",
    "# large straight\n",
    "values = (2, 3, 4, 5, 6)\n",
    "values == (2, 3, 4, 5, 6)\n"
   ]
  },
  {
   "cell_type": "code",
   "execution_count": null,
   "id": "2c1373cc",
   "metadata": {
    "time_run": "7:09:09a"
   },
   "outputs": [],
   "source": [
    "def has_ns(n, values):\n",
    "    return n in values\n",
    "\n",
    "assert has_ns(3, (1,2,3,4,5))\n",
    "assert not has_ns(6, (1,2,3,4,5))\n",
    "\n",
    "def n_same(n, values):\n",
    "    counts = Counter(values)\n",
    "    return [k for k, v in counts.items() if v >= n]\n",
    "\n",
    "assert n_same(2, (1,2,2,3,3)) == [2, 3]\n",
    "\n",
    "def has_n_same(n, values):\n",
    "    return bool(n_same(n, values))\n",
    "\n",
    "def has_two_pairs(values):\n",
    "    pairs = n_same(2, values)\n",
    "    if len(pairs) == 2:\n",
    "        return True\n",
    "    return False\n",
    "\n",
    "assert has_two_pairs((1,1,2,2,3))\n",
    "assert not has_two_pairs((1,1,2,3,4))\n",
    "assert not has_two_pairs((1,1,1,1,2))\n",
    "\n",
    "def has_full_house(values):\n",
    "    pairs = n_same(2, values)\n",
    "    three_sames = n_same(3, values)\n",
    "    if pairs and three_sames:\n",
    "        pairs.remove(three_sames[0])\n",
    "        return len(pairs) > 0\n",
    "    return False\n",
    "\n",
    "assert has_full_house((2,2,3,3,3))\n",
    "assert not has_full_house((1,2,3,3,3))\n",
    "\n",
    "def has_small_straight(values):\n",
    "    return values == (1,2,3,4,5)\n",
    "\n",
    "def has_large_straight(values):\n",
    "    return values == (2,3,4,5,6)"
   ]
  },
  {
   "cell_type": "code",
   "execution_count": null,
   "id": "8df760ba",
   "metadata": {
    "time_run": "7:09:09a"
   },
   "outputs": [],
   "source": [
    "def score_n(value, values): \n",
    "    n = values.count(value)\n",
    "    return value * n\n",
    "assert score_n(1, (1,1,1,2,3)) == 3\n",
    "\n",
    "def score_same(n, values): \n",
    "    # todo\n",
    "    return value * n\n",
    "\n",
    "\n",
    "def score_yatzy(value): return value * 5 + 50\n",
    "def score_two_pairs(pair1, pair2): return 2 * pair1 + 2 * pair2\n",
    "def score_full_house(pair_value, three_value): return 2 * pair_value + 3 * three_value\n",
    "def score_small_straight(): return 15\n",
    "def score_large_straight(): return 20\n"
   ]
  },
  {
   "cell_type": "code",
   "execution_count": null,
   "id": "f792b036",
   "metadata": {
    "time_run": "7:09:09a"
   },
   "outputs": [
    {
     "data": {
      "text/plain": [
       "{'fives',\n",
       " 'four_same',\n",
       " 'fours',\n",
       " 'full_house',\n",
       " 'one_pair',\n",
       " 'ones',\n",
       " 'sixes',\n",
       " 'small_straight',\n",
       " 'three_same',\n",
       " 'threes',\n",
       " 'two_pairs',\n",
       " 'twos'}"
      ]
     },
     "execution_count": 44,
     "metadata": {},
     "output_type": "execute_result"
    }
   ],
   "source": [
    "can_zero"
   ]
  },
  {
   "cell_type": "code",
   "execution_count": null,
   "id": "6f28fa69",
   "metadata": {
    "time_run": "7:09:09a"
   },
   "outputs": [],
   "source": [
    "from functools import partial\n",
    "\n",
    "checkers = {\n",
    "    \"ones\": partial(has_ns, 1),\n",
    "    \"twos\": partial(has_ns, 2),\n",
    "    \"threes\": partial(has_ns, 3),\n",
    "    \"fours\": partial(has_ns, 4),\n",
    "    \"fives\": partial(has_ns, 5),\n",
    "    \"sixes\": partial(has_ns, 6),\n",
    "    \"one_pair\": partial(has_n_same, 2),\n",
    "    \"two_pairs\": has_two_pairs,\n",
    "    \"three_same\": partial(has_n_same, 3),\n",
    "    \"four_same\": partial(has_n_same, 4),\n",
    "    \"small_straight\": has_small_straight,\n",
    "    \"large_straight\": has_large_straight,\n",
    "    \"full_house\": has_full_house,\n",
    "    \"chance\": lambda x: x, # ???\n",
    "    \"yatzy\": partial(n_same, 5),\n",
    "}"
   ]
  },
  {
   "cell_type": "code",
   "execution_count": null,
   "id": "3c703b93",
   "metadata": {
    "time_run": "7:09:09a"
   },
   "outputs": [
    {
     "name": "stdout",
     "output_type": "stream",
     "text": [
      "sixes False\n",
      "two_pairs False\n",
      "full_house False\n",
      "fours True\n",
      "one_pair False\n",
      "twos True\n",
      "ones True\n",
      "four_same False\n",
      "small_straight True\n",
      "fives True\n",
      "threes True\n",
      "three_same False\n"
     ]
    }
   ],
   "source": [
    "for category in can_zero:\n",
    "    can_select = checkers[category](state.dice_values)\n",
    "    print(category, can_select)"
   ]
  },
  {
   "cell_type": "code",
   "execution_count": null,
   "id": "8cabff83",
   "metadata": {
    "time_run": "7:09:09a"
   },
   "outputs": [],
   "source": [
    "scorers = {\n",
    "    \"ones\": partial(score_n, 1),\n",
    "    \"twos\": partial(score_n, 2),\n",
    "    \"threes\": partial(score_n, 3),\n",
    "    \"fours\": partial(score_n, 4),\n",
    "    \"fives\": partial(score_n, 5),\n",
    "    \"sixes\": partial(score_n, 6),\n",
    "    \"one_pair\": partial(score_same, 2),\n",
    "    \"two_pairs\": score_two_pairs,\n",
    "    \"three_same\": partial(score_same, 3),\n",
    "    \"four_same\": partial(score_same, 4),\n",
    "    \"small_straight\": score_small_straight,\n",
    "    \"large_straight\": score_large_straight,\n",
    "    \"full_house\": score_full_house,\n",
    "    \"chance\": lambda x: sum(x),\n",
    "    \"yatzy\": score_yatzy,\n",
    "}"
   ]
  },
  {
   "cell_type": "code",
   "execution_count": null,
   "id": "c8079a0b",
   "metadata": {
    "time_run": "7:09:09a"
   },
   "outputs": [
    {
     "data": {
      "text/plain": [
       "[Action(type='reroll', value=(0, 0, 0, 0, 0)),\n",
       " Action(type='reroll', value=(0, 0, 0, 0, 1)),\n",
       " Action(type='reroll', value=(0, 0, 0, 1, 0)),\n",
       " Action(type='reroll', value=(0, 0, 0, 1, 1)),\n",
       " Action(type='reroll', value=(0, 0, 1, 0, 0)),\n",
       " Action(type='reroll', value=(0, 0, 1, 0, 1)),\n",
       " Action(type='reroll', value=(0, 0, 1, 1, 0)),\n",
       " Action(type='reroll', value=(0, 0, 1, 1, 1)),\n",
       " Action(type='reroll', value=(0, 1, 0, 0, 0)),\n",
       " Action(type='reroll', value=(0, 1, 0, 0, 1)),\n",
       " Action(type='reroll', value=(0, 1, 0, 1, 0)),\n",
       " Action(type='reroll', value=(0, 1, 0, 1, 1)),\n",
       " Action(type='reroll', value=(0, 1, 1, 0, 0)),\n",
       " Action(type='reroll', value=(0, 1, 1, 0, 1)),\n",
       " Action(type='reroll', value=(0, 1, 1, 1, 0)),\n",
       " Action(type='reroll', value=(0, 1, 1, 1, 1)),\n",
       " Action(type='reroll', value=(1, 0, 0, 0, 0)),\n",
       " Action(type='reroll', value=(1, 0, 0, 0, 1)),\n",
       " Action(type='reroll', value=(1, 0, 0, 1, 0)),\n",
       " Action(type='reroll', value=(1, 0, 0, 1, 1)),\n",
       " Action(type='reroll', value=(1, 0, 1, 0, 0)),\n",
       " Action(type='reroll', value=(1, 0, 1, 0, 1)),\n",
       " Action(type='reroll', value=(1, 0, 1, 1, 0)),\n",
       " Action(type='reroll', value=(1, 0, 1, 1, 1)),\n",
       " Action(type='reroll', value=(1, 1, 0, 0, 0)),\n",
       " Action(type='reroll', value=(1, 1, 0, 0, 1)),\n",
       " Action(type='reroll', value=(1, 1, 0, 1, 0)),\n",
       " Action(type='reroll', value=(1, 1, 0, 1, 1)),\n",
       " Action(type='reroll', value=(1, 1, 1, 0, 0)),\n",
       " Action(type='reroll', value=(1, 1, 1, 0, 1)),\n",
       " Action(type='reroll', value=(1, 1, 1, 1, 0)),\n",
       " Action(type='reroll', value=(1, 1, 1, 1, 1))]"
      ]
     },
     "execution_count": 52,
     "metadata": {},
     "output_type": "execute_result"
    }
   ],
   "source": [
    "available_actions"
   ]
  },
  {
   "cell_type": "code",
   "execution_count": null,
   "id": "45eea0f2",
   "metadata": {
    "time_run": "7:09:09a"
   },
   "outputs": [
    {
     "data": {
      "text/plain": [
       "[Action(type='reroll', value=(0, 0, 0, 0, 0)),\n",
       " Action(type='reroll', value=(0, 0, 0, 0, 1)),\n",
       " Action(type='reroll', value=(0, 0, 0, 1, 0)),\n",
       " Action(type='reroll', value=(0, 0, 0, 1, 1)),\n",
       " Action(type='reroll', value=(0, 0, 1, 0, 0)),\n",
       " Action(type='reroll', value=(0, 0, 1, 0, 1)),\n",
       " Action(type='reroll', value=(0, 0, 1, 1, 0)),\n",
       " Action(type='reroll', value=(0, 0, 1, 1, 1)),\n",
       " Action(type='reroll', value=(0, 1, 0, 0, 0)),\n",
       " Action(type='reroll', value=(0, 1, 0, 0, 1)),\n",
       " Action(type='reroll', value=(0, 1, 0, 1, 0)),\n",
       " Action(type='reroll', value=(0, 1, 0, 1, 1)),\n",
       " Action(type='reroll', value=(0, 1, 1, 0, 0)),\n",
       " Action(type='reroll', value=(0, 1, 1, 0, 1)),\n",
       " Action(type='reroll', value=(0, 1, 1, 1, 0)),\n",
       " Action(type='reroll', value=(0, 1, 1, 1, 1)),\n",
       " Action(type='reroll', value=(1, 0, 0, 0, 0)),\n",
       " Action(type='reroll', value=(1, 0, 0, 0, 1)),\n",
       " Action(type='reroll', value=(1, 0, 0, 1, 0)),\n",
       " Action(type='reroll', value=(1, 0, 0, 1, 1)),\n",
       " Action(type='reroll', value=(1, 0, 1, 0, 0)),\n",
       " Action(type='reroll', value=(1, 0, 1, 0, 1)),\n",
       " Action(type='reroll', value=(1, 0, 1, 1, 0)),\n",
       " Action(type='reroll', value=(1, 0, 1, 1, 1)),\n",
       " Action(type='reroll', value=(1, 1, 0, 0, 0)),\n",
       " Action(type='reroll', value=(1, 1, 0, 0, 1)),\n",
       " Action(type='reroll', value=(1, 1, 0, 1, 0)),\n",
       " Action(type='reroll', value=(1, 1, 0, 1, 1)),\n",
       " Action(type='reroll', value=(1, 1, 1, 0, 0)),\n",
       " Action(type='reroll', value=(1, 1, 1, 0, 1)),\n",
       " Action(type='reroll', value=(1, 1, 1, 1, 0)),\n",
       " Action(type='reroll', value=(1, 1, 1, 1, 1)),\n",
       " Action(type='zero', value='sixes'),\n",
       " Action(type='zero', value='two_pairs'),\n",
       " Action(type='zero', value='full_house'),\n",
       " Action(type='zero', value='fours'),\n",
       " Action(type='score', value='fours'),\n",
       " Action(type='zero', value='one_pair'),\n",
       " Action(type='zero', value='twos'),\n",
       " Action(type='score', value='twos'),\n",
       " Action(type='zero', value='ones'),\n",
       " Action(type='score', value='ones'),\n",
       " Action(type='zero', value='four_same'),\n",
       " Action(type='zero', value='small_straight'),\n",
       " Action(type='score', value='small_straight'),\n",
       " Action(type='zero', value='fives'),\n",
       " Action(type='score', value='fives'),\n",
       " Action(type='zero', value='threes'),\n",
       " Action(type='score', value='threes'),\n",
       " Action(type='zero', value='three_same')]"
      ]
     },
     "execution_count": 54,
     "metadata": {},
     "output_type": "execute_result"
    }
   ],
   "source": [
    "for cat in can_zero:\n",
    "    available_actions.append(Action(type=\"zero\", value=cat))\n",
    "    can_select = checkers[cat](state.dice_values)\n",
    "    if can_select:\n",
    "        available_actions.append(Action(type=\"score\", value=cat))\n",
    "available_actions"
   ]
  },
  {
   "cell_type": "markdown",
   "id": "e2cdccbd",
   "metadata": {},
   "source": [
    "What I have\n",
    "* state\n",
    "* actions\n",
    "* categories\n",
    "* dice rolling\n",
    "* has category checks\n",
    "* available actions\n",
    "\n",
    "What is missing\n",
    "* transition function\n",
    "    * logic for reroll\n",
    "    * logic for selecting zeroing categories\n",
    "\n",
    "Transition function\n",
    "\n",
    "state + action --> next state\n",
    "\n",
    "```python\n",
    "next_state = transition_func(state, action)\n",
    "```\n",
    "\n",
    "What transitions are there?\n",
    "\n",
    "actions\n",
    "* reroll\n",
    "* zero\n",
    "* score\n",
    "\n",
    "reroll\n",
    "* reroll the dice according to mask\n",
    "* set new dice to state\n",
    "* decrement rolls left\n",
    "\n",
    "zero\n",
    "* set the category as selected\n",
    "* check wheter categories left and set terminal state if not any left\n",
    "* reroll whole dice\n",
    "* reset rolls left to 2\n",
    "\n",
    "score\n",
    "* compute score\n",
    "* set the category as selected\n",
    "* add score to scoreboard or total sum\n",
    "* check wheter categories left and set terminal state if not any left\n",
    "* reroll whole dice\n",
    "* reset rolls left to 2\n"
   ]
  },
  {
   "cell_type": "code",
   "execution_count": null,
   "id": "3d1301e2",
   "metadata": {
    "time_run": "7:09:09a"
   },
   "outputs": [
    {
     "data": {
      "text/plain": [
       "State(dice_values=(1, 2, 3, 4, 5), rolls_left=2, categories_picked=frozenset({'chance', 'yatzy', 'large_straight'}))"
      ]
     },
     "execution_count": 56,
     "metadata": {},
     "output_type": "execute_result"
    }
   ],
   "source": [
    "state"
   ]
  },
  {
   "cell_type": "code",
   "execution_count": null,
   "id": "72b65d07",
   "metadata": {
    "time_run": "7:10:08a"
   },
   "outputs": [
    {
     "data": {
      "text/plain": [
       "Action(type='reroll', value=(1, 1, 1, 0, 0))"
      ]
     },
     "execution_count": 60,
     "metadata": {},
     "output_type": "execute_result"
    }
   ],
   "source": [
    "action = Action(type='reroll', value=(1, 1, 1, 0, 0))\n",
    "action"
   ]
  },
  {
   "cell_type": "code",
   "execution_count": null,
   "id": "fdc15ea2",
   "metadata": {
    "time_run": "7:17:33a"
   },
   "outputs": [
    {
     "data": {
      "text/plain": [
       "(4, 4, 5, 5, 6)"
      ]
     },
     "execution_count": 100,
     "metadata": {},
     "output_type": "execute_result"
    }
   ],
   "source": [
    "def reroll_masked(values, mask):\n",
    "    next_values = list(values)\n",
    "    mask = action.value\n",
    "    reroll = roll_n_dice(5)\n",
    "    for i, bit in enumerate(mask):\n",
    "        if bit == 1:\n",
    "            next_values[i] = reroll[i]\n",
    "    return tuple(sorted(next_values))\n",
    "\n",
    "reroll_masked((1,2,3,4,5), (1,1,1,0,0))"
   ]
  },
  {
   "cell_type": "code",
   "execution_count": null,
   "id": "f321f0af",
   "metadata": {
    "time_run": "7:50:29a"
   },
   "outputs": [
    {
     "name": "stdout",
     "output_type": "stream",
     "text": [
      "State(dice_values=(2, 3, 4, 5, 5), rolls_left=1, categories_picked=frozenset({'chance', 'yatzy', 'large_straight'}))\n",
      "State(dice_values=(1, 2, 2, 5, 6), rolls_left=2, categories_picked=frozenset({'chance', 'yatzy', 'large_straight', 'ones'}))\n"
     ]
    }
   ],
   "source": [
    "def transition_func(state: State, action: Action):\n",
    "    match action.type:\n",
    "        case \"reroll\":\n",
    "            assert state.rolls_left > 0\n",
    "            new_values = reroll_masked(state.dice_values, action.value)\n",
    "            return State(new_values, state.rolls_left - 1, state.categories_picked)\n",
    "        case \"score\": ...\n",
    "        case \"zero\":\n",
    "            assert action.value not in state.categories_picked\n",
    "            new_categories = state.categories_picked | {action.value}\n",
    "            categories_left = categories - state.categories_picked\n",
    "            if not categories_left: return TERMINAL_STATE\n",
    "            new_values = tuple(sorted(roll_n_dice(5)))\n",
    "            return State(new_values, 2, frozenset(new_categories))\n",
    "\n",
    "print(transition_func(state, action))\n",
    "print(transition_func(state, Action(\"zero\", \"ones\")))"
   ]
  },
  {
   "cell_type": "markdown",
   "id": "df3a6909",
   "metadata": {
    "solveit_ai": true
   },
   "source": [
    "Getting pretty far\n",
    "\n",
    "##### 🤖Reply🤖<!-- SOLVEIT_SEPARATOR_7f3a9b2c -->\n",
    "\n",
    "You're making excellent progress! You've built a lot of the core components:\n",
    "\n",
    "✓ State and Action representations  \n",
    "✓ Dice rolling mechanics  \n",
    "✓ Category checking functions  \n",
    "✓ Available actions generation  \n",
    "✓ Transition function (partially complete)\n",
    "\n",
    "I noticed your transition function still has the `\"score\"` case to implement. That one should be similar to `\"zero\"` but also needs to:\n",
    "- Calculate the actual score using your `scorers` dict\n",
    "- Return that score somehow (maybe as a reward?)\n",
    "\n",
    "A couple of questions to help you move forward:\n",
    "\n",
    "1. How do you want to handle the score/reward? Will your transition function return just the next state, or a tuple like `(next_state, reward)`?\n",
    "\n",
    "2. Have you thought about what `TERMINAL_STATE` should be? (I see you referenced it in the zero case)\n",
    "\n",
    "What would you like to tackle next?"
   ]
  }
 ],
 "metadata": {
  "solveit_dialog_mode": "learning",
  "solveit_ver": 2
 },
 "nbformat": 4,
 "nbformat_minor": 5
}
