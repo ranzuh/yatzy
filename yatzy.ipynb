{
 "cells": [
  {
   "cell_type": "markdown",
   "id": "33fd6d87",
   "metadata": {},
   "source": [
    "## Yatzy program"
   ]
  },
  {
   "cell_type": "markdown",
   "id": "b8221b92",
   "metadata": {},
   "source": [
    "## Initial planning"
   ]
  },
  {
   "cell_type": "markdown",
   "id": "68f18802",
   "metadata": {},
   "source": [
    "Yatzy program to play with and get policy and probabilities\n",
    "\n",
    "Should have\n",
    "* encoding state\n",
    "* transition function for rules\n",
    "* checking terminal state and computing reward\n",
    "* actions to roll dice and select categories\n",
    "* value iteration to compute value function / policy"
   ]
  },
  {
   "cell_type": "markdown",
   "id": "26a8ff4e",
   "metadata": {
    "solveit_ai": true
   },
   "source": [
    "I want to create a yatzy program that I've stated above. Am I missing anything?\n",
    "\n",
    "##### 🤖Reply🤖<!-- SOLVEIT_SEPARATOR_7f3a9b2c -->\n",
    "\n",
    "Great project! Your list covers the key components for a Yatzy reinforcement learning setup. Let me check if you've got everything:\n",
    "\n",
    "**What you have:**\n",
    "- State encoding ✓\n",
    "- Transition function (rules) ✓\n",
    "- Terminal state and reward ✓\n",
    "- Actions ✓\n",
    "\n",
    "**You might also want to consider:**\n",
    "- A **scoring function** for each category (ones, twos, full house, etc.)\n",
    "- How to handle the **scorecard state** (which categories have been used)\n",
    "- The **reroll mechanism** (you get up to 3 rolls per turn, choosing which dice to keep)\n",
    "- Whether you're implementing **single-player** (maximize your score) or **multi-player** (beat opponents)\n",
    "\n",
    "For value iteration specifically, you'll need a **value function** that estimates the expected score from any state.\n",
    "\n",
    "What's your vision for the game? Single-player trying to maximize score, or competitive play? And do you already have a sense of how you want to encode the state?"
   ]
  },
  {
   "cell_type": "markdown",
   "id": "68b14f2d",
   "metadata": {
    "solveit_ai": true
   },
   "source": [
    "I think I could start with a single player setting. What if I want to get probability of each outcome? Should I use markov chains for that or can I use same setup I'm designing to easily get that?\n",
    "\n",
    "##### 🤖Reply🤖<!-- SOLVEIT_SEPARATOR_7f3a9b2c -->\n",
    "\n",
    "Good question! You can actually use the same setup for both.\n",
    "\n",
    "Your value iteration framework naturally gives you **expected values** (average scores), but if you want the full **probability distribution** of outcomes, you have a couple of options:\n",
    "\n",
    "1. **Extend your existing transition function** - Since you're already building transitions (state → action → next state), you can track probabilities through these transitions. This is essentially using the Markov chain structure you're already creating.\n",
    "\n",
    "2. **Monte Carlo simulation** - Once you have your optimal policy, you can run many simulations and collect the distribution of final scores empirically.\n",
    "\n",
    "The first approach is more exact but computationally intensive. The second is simpler to implement and often sufficient.\n",
    "\n",
    "Which sounds more appealing to you? And have you thought about how you want to represent your state yet (dice values, roll number, which categories are filled)?"
   ]
  },
  {
   "cell_type": "markdown",
   "id": "106e57ba",
   "metadata": {},
   "source": [
    "State should have\n",
    "* current dice values\n",
    "* roll number, or rolls left, same thing I guess\n",
    "* which categories are filled"
   ]
  },
  {
   "cell_type": "markdown",
   "id": "3fad9cf0",
   "metadata": {
    "solveit_ai": true
   },
   "source": [
    "do you think thats sufficient for state?\n",
    "\n",
    "##### 🤖Reply🤖<!-- SOLVEIT_SEPARATOR_7f3a9b2c -->\n",
    "\n",
    "Yes, that's sufficient for the state! You've captured all the information needed to make optimal decisions:\n",
    "\n",
    "- **Current dice values** - what you're working with right now\n",
    "- **Rolls left** - determines whether you can reroll or must score\n",
    "- **Filled categories** - which scoring options are still available\n",
    "\n",
    "One small implementation detail to consider: how will you represent the dice? For example, `[1, 2, 3, 3, 5]` vs. a sorted version `[1, 2, 3, 3, 5]` vs. counts `{1:1, 2:1, 3:2, 5:1}`. Sorting or using counts can reduce your state space significantly since `[1, 2, 3, 3, 5]` and `[3, 1, 5, 3, 2]` are functionally identical.\n",
    "\n",
    "Have you thought about how you want to represent the dice values?"
   ]
  },
  {
   "cell_type": "markdown",
   "id": "6e3550a5",
   "metadata": {
    "solveit_ai": true
   },
   "source": [
    "Sorted version is best. Rolls left can just be 2,1,0. Hmm categories filled. What options I have, a binary number or list?\n",
    "\n",
    "##### 🤖Reply🤖<!-- SOLVEIT_SEPARATOR_7f3a9b2c -->\n",
    "\n",
    "Good choices! Sorted dice and rolls left as `2, 1, 0` are clean.\n",
    "\n",
    "For categories filled, both options work:\n",
    "\n",
    "**Binary number** (e.g., `0b1010110101`) - compact, efficient for hashing/lookup, but less readable\n",
    "\n",
    "**List/set** (e.g., `['ones', 'full_house']` or `{0, 3, 5}`) - more readable, easier to debug\n",
    "\n",
    "**Tuple of booleans** (e.g., `(True, False, True, ...)`) - middle ground, hashable for dictionaries\n",
    "\n",
    "The binary number is probably best for value iteration since you'll have lots of states to store. You can use bit operations to check/set categories quickly.\n",
    "\n",
    "How many categories are you including? Standard Yatzy has 15 (6 upper section + 9 lower section). Are you doing full rules or a simplified version?"
   ]
  },
  {
   "cell_type": "markdown",
   "id": "68be4d8f",
   "metadata": {
    "solveit_ai": true
   },
   "source": [
    "Full rules. Should I use numpy for storing state, it has bit operations also, right?\n",
    "\n",
    "##### 🤖Reply🤖<!-- SOLVEIT_SEPARATOR_7f3a9b2c -->\n",
    "\n",
    "Yes, numpy has bitwise operations (`&`, `|`, `^`, `~`, `<<`, `>>`), but for storing state in value iteration, you might not need numpy arrays specifically.\n",
    "\n",
    "Here's why: your state is more like a **key** for looking up values in a dictionary, not a large array of numbers. Python's built-in `int` for the binary categories works great with bitwise ops, and you can use a regular dict or numpy array indexed by state.\n",
    "\n",
    "For example:\n",
    "- Categories as `int`: `categories = 0b0001010` \n",
    "- Check if category 2 is filled: `categories & (1 << 2)`\n",
    "- Mark category 2 as filled: `categories | (1 << 2)`\n",
    "\n",
    "You might use numpy for dice operations (rolling, sorting) or storing your value function as an array if you enumerate all states.\n",
    "\n",
    "Are you planning to enumerate all possible states upfront, or build them dynamically as you explore?"
   ]
  },
  {
   "cell_type": "markdown",
   "id": "3e96343f",
   "metadata": {
    "solveit_ai": true
   },
   "source": [
    "Enumerate up front. I think its common to represent states with int, like in gymnasium discrete? Do you think its better to use dict with state as key?\n",
    "\n",
    "##### 🤖Reply🤖<!-- SOLVEIT_SEPARATOR_7f3a9b2c -->\n",
    "\n",
    "Good point! Yes, in Gymnasium's discrete spaces, states are typically integers (0, 1, 2, ..., n). This works well when you can map your full state to a unique integer.\n",
    "\n",
    "For your case, you could create a mapping function:\n",
    "- Dice (sorted) → some integer\n",
    "- Rolls left (0-2) → multiply by some factor\n",
    "- Categories (binary) → shift and add\n",
    "\n",
    "Then use a numpy array indexed by this state integer for your value function: `V[state_int]`.\n",
    "\n",
    "**Tradeoff:**\n",
    "- **Int indexing + numpy array**: faster lookup, more cache-friendly\n",
    "- **Dict with tuple key**: easier to debug (you can see `(dice, rolls, categories)` directly), simpler mapping\n",
    "\n",
    "Since you're enumerating upfront and want performance for value iteration, the integer state indexing is probably better.\n",
    "\n",
    "Do you want to start sketching out how to encode your state as an integer, or would you like to begin with a simpler piece first (like the dice rolling or scoring functions)?"
   ]
  },
  {
   "cell_type": "markdown",
   "id": "fc37d33e",
   "metadata": {
    "solveit_ai": true
   },
   "source": [
    "Actually, when I think about it now having \n",
    "```\n",
    "state = (dice, rolls, categories)\n",
    "value = V[state]\n",
    "```\n",
    "looks very clean. That's the dict approach right?\n",
    "\n",
    "##### 🤖Reply🤖<!-- SOLVEIT_SEPARATOR_7f3a9b2c -->\n",
    "\n",
    "Exactly! That's the dict approach:\n",
    "\n",
    "```python\n",
    "V = {}  # or defaultdict\n",
    "state = (tuple(sorted_dice), rolls_left, categories_int)\n",
    "value = V[state]\n",
    "```\n",
    "\n",
    "The tuple is hashable (so it works as a dict key), and you're right—it's very clean and readable. You can directly see what each state represents when debugging.\n",
    "\n",
    "The performance difference between dict and array indexing probably won't matter much unless you're doing millions of iterations. And dict has a nice bonus: you only store states you actually visit, which could save memory.\n",
    "\n",
    "Sounds like you have a good plan! What would you like to tackle first—the state encoding, the scoring functions, or the transition/action logic?"
   ]
  },
  {
   "cell_type": "markdown",
   "id": "0f8c242f",
   "metadata": {
    "solveit_ai": true
   },
   "source": [
    "Can you give me the readable options for categories that would work well with the dict approach?\n",
    "\n",
    "##### 🤖Reply🤖<!-- SOLVEIT_SEPARATOR_7f3a9b2c -->\n",
    "\n",
    "Sure! Here are some readable options for categories:\n",
    "\n",
    "**Option 1: Named tuple or dict keys**\n",
    "```python\n",
    "categories = {'ones': True, 'twos': False, 'threes': True, ...}\n",
    "```\n",
    "\n",
    "**Option 2: Set of used categories**\n",
    "```python\n",
    "categories = {'ones', 'full_house', 'chance'}  # just the filled ones\n",
    "```\n",
    "\n",
    "**Option 3: Frozenset (hashable set)**\n",
    "```python\n",
    "categories = frozenset(['ones', 'full_house'])  # can be dict key\n",
    "```\n",
    "\n",
    "For your dict state approach, **Option 3 (frozenset)** works best because:\n",
    "- It's hashable (required for dict keys)\n",
    "- You only store what's used (compact)\n",
    "- Easy to check: `'ones' in categories`\n",
    "- Easy to add: `categories | {'twos'}`\n",
    "\n",
    "Would you like to use frozenset, or do you prefer keeping the binary int approach for compactness?"
   ]
  },
  {
   "cell_type": "markdown",
   "id": "1b74c54b",
   "metadata": {
    "solveit_ai": true
   },
   "source": [
    "What are the differences between options 1 and 3?\n",
    "\n",
    "##### 🤖Reply🤖<!-- SOLVEIT_SEPARATOR_7f3a9b2c -->\n",
    "\n",
    "Good question! The key difference is **hashability**:\n",
    "\n",
    "**Option 1 (dict):**\n",
    "- `{'ones': True, 'twos': False, ...}` is **not hashable**\n",
    "- Can't use it as a dict key: `V[state]` would fail\n",
    "- You'd need to convert it (e.g., to a frozenset or tuple of items)\n",
    "\n",
    "**Option 3 (frozenset):**\n",
    "- `frozenset(['ones', 'full_house'])` **is hashable**\n",
    "- Works directly as dict key: `V[(dice, rolls, categories)]` ✓\n",
    "- Immutable (can't accidentally modify it)\n",
    "\n",
    "So Option 1 looks nice but doesn't work for your `state` tuple without extra conversion. Option 3 works out of the box.\n",
    "\n",
    "Does that clarify the tradeoff?"
   ]
  },
  {
   "cell_type": "markdown",
   "id": "2339f65f",
   "metadata": {
    "solveit_ai": true
   },
   "source": [
    "Another option would be to have an efficient way to store state and then have a function to get the human readable version.\n",
    "\n",
    "##### 🤖Reply🤖<!-- SOLVEIT_SEPARATOR_7f3a9b2c -->\n",
    "\n",
    "That's a smart approach! You get the best of both worlds:\n",
    "\n",
    "**Efficient storage:** Use int for categories (or even encode the whole state as one int)\n",
    "\n",
    "**Readable debugging:** Have a helper function like `state_to_readable(state)` that converts it when you need to inspect it\n",
    "\n",
    "This is actually a common pattern in RL implementations. You could have:\n",
    "- `encode_state(dice, rolls, categories)` → compact representation\n",
    "- `decode_state(state)` → human-readable format\n",
    "\n",
    "The compact version stays in your dict keys and value iteration, but you can always decode when debugging or analyzing results.\n",
    "\n",
    "Do you want to go with this approach? And if so, would you keep categories as int and just decode those, or encode the entire state into a single int?"
   ]
  },
  {
   "cell_type": "markdown",
   "id": "ff138732",
   "metadata": {
    "solveit_ai": true
   },
   "source": [
    "Is it easy to implement later? What would be a good plan to start iterating and experimenting the quickest?\n",
    "\n",
    "##### 🤖Reply🤖<!-- SOLVEIT_SEPARATOR_7f3a9b2c -->\n",
    "\n",
    "Great pragmatic question! Here's the quickest path to start experimenting:\n",
    "\n",
    "**Start simple, optimize later:**\n",
    "\n",
    "1. Use the readable approach first: `state = (tuple(dice), rolls_left, frozenset(categories))`\n",
    "2. Get your basic game logic working (scoring, transitions, actions)\n",
    "3. Test with small examples\n",
    "4. If performance becomes an issue, add encoding functions later\n",
    "\n",
    "This way you can:\n",
    "- Debug easily (see exactly what's happening)\n",
    "- Iterate quickly on game logic\n",
    "- Add the int encoding wrapper later without changing core logic\n",
    "\n",
    "The encoding functions are straightforward to add once everything works. Premature optimization can slow you down.\n",
    "\n",
    "Does starting with the readable version and refactoring later sound good? Or do you have performance concerns from the start?"
   ]
  },
  {
   "cell_type": "markdown",
   "id": "f6766d39",
   "metadata": {
    "solveit_ai": true
   },
   "source": [
    "What are advantages of frozenset vs tuple or strings?\n",
    "\n",
    "##### 🤖Reply🤖<!-- SOLVEIT_SEPARATOR_7f3a9b2c -->\n",
    "\n",
    "Good question! Here are the key differences:\n",
    "\n",
    "**Frozenset:**\n",
    "- Unordered: `frozenset(['ones', 'twos'])` == `frozenset(['twos', 'ones'])`\n",
    "- Easy membership check: `'ones' in categories`\n",
    "- Natural for \"which categories are filled\" (order doesn't matter)\n",
    "\n",
    "**Tuple:**\n",
    "- Ordered: `('ones', 'twos')` ≠ `('twos', 'ones')`\n",
    "- You'd need to keep it sorted to avoid duplicate states\n",
    "- Still hashable and works as dict key\n",
    "\n",
    "**Strings:**\n",
    "- Could do something like `'ones,twos,full_house'`\n",
    "- Harder to check membership or add categories\n",
    "- More manual string manipulation\n",
    "\n",
    "For your use case (tracking which categories are used), **frozenset** is most natural since the order you filled categories doesn't matter for game state.\n",
    "\n",
    "Does that help you decide which to use?"
   ]
  },
  {
   "cell_type": "markdown",
   "id": "aa510c1f",
   "metadata": {},
   "source": [
    "## Summary of planning"
   ]
  },
  {
   "cell_type": "markdown",
   "id": "f35a1eea",
   "metadata": {
    "solveit_ai": true
   },
   "source": [
    "Okay can you summarise all the decisions I made and have a clear plan to start working next\n",
    "\n",
    "##### 🤖Reply🤖<!-- SOLVEIT_SEPARATOR_7f3a9b2c -->\n",
    "\n",
    "**Your Decisions:**\n",
    "\n",
    "1. **Single-player** Yatzy to maximize score\n",
    "2. **State representation:** `(tuple(sorted_dice), rolls_left, frozenset(filled_categories))`\n",
    "3. **Use dict** for value function: `V[state] = value`\n",
    "4. **Start with readable format**, optimize encoding later if needed\n",
    "5. **Full Yatzy rules** (15 categories)\n",
    "\n",
    "**Plan to Start:**\n",
    "\n",
    "1. Define the 15 category names (as strings for frozenset)\n",
    "2. Write scoring functions for each category\n",
    "3. Implement dice rolling and state transitions\n",
    "4. Define valid actions (which dice to keep, which category to score)\n",
    "5. Build value iteration algorithm\n",
    "6. Test and iterate\n",
    "\n",
    "**Immediate next step:** Would you like to start by defining the category names and writing a few scoring functions (like \"ones\", \"full house\", \"yatzy\")? Or would you prefer to begin with the dice rolling mechanics?"
   ]
  },
  {
   "cell_type": "code",
   "execution_count": null,
   "id": "099c6679",
   "metadata": {
    "collapsed": true,
    "time_run": "6:45:41a"
   },
   "outputs": [
    {
     "data": {
      "text/plain": [
       "{'chance',\n",
       " 'fives',\n",
       " 'four_same',\n",
       " 'fours',\n",
       " 'full_house',\n",
       " 'large_straight',\n",
       " 'one_pair',\n",
       " 'ones',\n",
       " 'sixes',\n",
       " 'small_straight',\n",
       " 'three_same',\n",
       " 'threes',\n",
       " 'two_pairs',\n",
       " 'twos',\n",
       " 'yatzy'}"
      ]
     },
     "execution_count": 63,
     "metadata": {},
     "output_type": "execute_result"
    }
   ],
   "source": [
    "# categories\n",
    "\n",
    "categories = set([\n",
    "    \"ones\",\n",
    "    \"twos\",\n",
    "    \"threes\",\n",
    "    \"fours\",\n",
    "    \"fives\",\n",
    "    \"sixes\",\n",
    "    \"one_pair\",\n",
    "    \"two_pairs\",\n",
    "    \"three_same\",\n",
    "    \"four_same\",\n",
    "    \"small_straight\",\n",
    "    \"large_straight\",\n",
    "    \"full_house\",\n",
    "    \"chance\",\n",
    "    \"yatzy\",\n",
    "])\n",
    "categories"
   ]
  },
  {
   "cell_type": "code",
   "execution_count": null,
   "id": "726be0cd",
   "metadata": {
    "time_run": "6:45:41a"
   },
   "outputs": [
    {
     "data": {
      "text/plain": [
       "(1, 2, 3, 4, 5)"
      ]
     },
     "execution_count": 65,
     "metadata": {},
     "output_type": "execute_result"
    }
   ],
   "source": [
    "# dice values\n",
    "dice_vals = [5, 4, 3, 2, 1]\n",
    "sorted_vals = tuple(sorted(dice_vals))\n",
    "sorted_vals"
   ]
  },
  {
   "cell_type": "code",
   "execution_count": null,
   "id": "dfc50c01",
   "metadata": {
    "time_run": "6:45:41a"
   },
   "outputs": [
    {
     "data": {
      "text/plain": [
       "15"
      ]
     },
     "execution_count": 67,
     "metadata": {},
     "output_type": "execute_result"
    }
   ],
   "source": [
    "score = sum(sorted_vals)\n",
    "score"
   ]
  },
  {
   "cell_type": "code",
   "execution_count": null,
   "id": "c07289ed",
   "metadata": {
    "time_run": "6:45:41a"
   },
   "outputs": [
    {
     "data": {
      "text/plain": [
       "[3, 1, 5, 6, 3]"
      ]
     },
     "execution_count": 69,
     "metadata": {},
     "output_type": "execute_result"
    }
   ],
   "source": [
    "import random\n",
    "\n",
    "random.choices([1,2,3,4,5,6], k=5)"
   ]
  },
  {
   "cell_type": "code",
   "execution_count": null,
   "id": "37c9befc",
   "metadata": {
    "time_run": "6:45:41a"
   },
   "outputs": [
    {
     "data": {
      "text/plain": [
       "[4, 6, 5, 2, 4]"
      ]
     },
     "execution_count": 71,
     "metadata": {},
     "output_type": "execute_result"
    }
   ],
   "source": [
    "def roll_n_dice(n):\n",
    "    return random.choices([1,2,3,4,5,6], k=n)\n",
    "\n",
    "roll_n_dice(5)"
   ]
  },
  {
   "cell_type": "code",
   "execution_count": null,
   "id": "6c52e561",
   "metadata": {
    "time_run": "6:45:41a"
   },
   "outputs": [
    {
     "data": {
      "text/plain": [
       "((1, 2, 3, 4, 5), 2, frozenset({'fives', 'full_house', 'threes'}))"
      ]
     },
     "execution_count": 73,
     "metadata": {},
     "output_type": "execute_result"
    }
   ],
   "source": [
    "state = (sorted_vals, 2, frozenset(random.sample(sorted(categories), 3)))\n",
    "state"
   ]
  },
  {
   "cell_type": "markdown",
   "id": "a143454b",
   "metadata": {
    "heading_collapsed": true
   },
   "source": [
    "## Planning more about how to represent state and actions"
   ]
  },
  {
   "cell_type": "markdown",
   "id": "34edb5b8",
   "metadata": {
    "hidden": 1
   },
   "source": [
    "Okay, thinking about actions.\n",
    "\n",
    "I would have 2 rolls left.\n",
    "\n",
    "I can choose what dices to hold and which to re-roll. So basically 5 long binary word.\n",
    "\n",
    "I can also choose small straight category, but no chance as its taken already.\n",
    "\n",
    "I can also choose to set zero to any category that I've not taken already.\n",
    "\n",
    "so action could be like\n",
    "```\n",
    "action = [00000, \"small_straight\", None]\n",
    "# or\n",
    "action = [11000, None, None]\n",
    "# or\n",
    "action = [00000, None, \"ones\"]\n",
    "```\n",
    "\n",
    "I need to have a function to compute possible actions.\n",
    "* allow re-roll if \"rolls left\" is > 0\n",
    "* check which categories can be selected\n",
    "* which categories could be set to zero"
   ]
  },
  {
   "cell_type": "markdown",
   "id": "dcbdb226",
   "metadata": {
    "hidden": 1,
    "solveit_ai": true
   },
   "source": [
    "What do you think about encoding actions? What other options I could have?\n",
    "\n",
    "##### 🤖Reply🤖<!-- SOLVEIT_SEPARATOR_7f3a9b2c -->\n",
    "\n",
    "Good thinking on the action structure! Your approach captures the three types of actions. Here are some encoding options:\n",
    "\n",
    "**Option 1: Your tuple approach**\n",
    "```python\n",
    "action = (reroll_mask, score_category, zero_category)\n",
    "```\n",
    "Simple, but only one field should be non-None at a time.\n",
    "\n",
    "**Option 2: Tagged tuple**\n",
    "```python\n",
    "action = ('reroll', [1,1,0,0,0])  # or\n",
    "action = ('score', 'small_straight')  # or\n",
    "action = ('zero', 'ones')\n",
    "```\n",
    "More explicit about action type.\n",
    "\n",
    "**Option 3: Single value with different types**\n",
    "```python\n",
    "action = [1,1,0,0,0]  # reroll (list/tuple)\n",
    "action = 'small_straight'  # score (string)\n",
    "action = ('zero', 'ones')  # zero out (tuple)\n",
    "```\n",
    "Python's dynamic typing lets you distinguish by type.\n",
    "\n",
    "**Option 4: Integer encoding**\n",
    "Map all possible actions to integers (0-N), like Gymnasium discrete actions.\n",
    "\n",
    "Which feels most natural to you? Option 2 is probably clearest for debugging, while Option 4 would be most efficient if you need it later."
   ]
  },
  {
   "cell_type": "markdown",
   "id": "2d5d2ffd",
   "metadata": {
    "hidden": 1,
    "solveit_ai": true
   },
   "source": [
    "Are there other options similar to tagged tuple?\n",
    "\n",
    "##### 🤖Reply🤖<!-- SOLVEIT_SEPARATOR_7f3a9b2c -->\n",
    "\n",
    "Yes! Here are some similar options to tagged tuples:\n",
    "\n",
    "**Named tuple:**\n",
    "```python\n",
    "from collections import namedtuple\n",
    "Action = namedtuple('Action', ['type', 'value'])\n",
    "action = Action('reroll', [1,1,0,0,0])\n",
    "action = Action('score', 'small_straight')\n",
    "```\n",
    "\n",
    "**Dataclass:**\n",
    "```python\n",
    "from dataclasses import dataclass\n",
    "@dataclass(frozen=True)  # frozen makes it hashable\n",
    "class Action:\n",
    "    type: str\n",
    "    value: any\n",
    "```\n",
    "\n",
    "**Dictionary:**\n",
    "```python\n",
    "action = {'type': 'reroll', 'value': [1,1,0,0,0]}\n",
    "action = {'type': 'score', 'category': 'small_straight'}\n",
    "```\n",
    "(Not hashable unless you convert it)\n",
    "\n",
    "**Enum + value:**\n",
    "```python\n",
    "from enum import Enum\n",
    "class ActionType(Enum):\n",
    "    REROLL = 1\n",
    "    SCORE = 2\n",
    "    ZERO = 3\n",
    "action = (ActionType.REROLL, [1,1,0,0,0])\n",
    "```\n",
    "\n",
    "Named tuple and dataclass give you nice attribute access (`action.type`, `action.value`) while staying hashable. Do any of these appeal to you more than the plain tagged tuple?"
   ]
  },
  {
   "cell_type": "markdown",
   "id": "6772914f",
   "metadata": {},
   "source": [
    "## Back to implementing"
   ]
  },
  {
   "cell_type": "code",
   "execution_count": null,
   "id": "90ba0bd7",
   "metadata": {
    "time_run": "6:45:41a"
   },
   "outputs": [
    {
     "data": {
      "text/plain": [
       "State(dice_values=(1, 2, 3, 4, 5), rolls_left=2, categories_picked=frozenset({'large_straight', 'chance', 'yatzy'}))"
      ]
     },
     "execution_count": 75,
     "metadata": {},
     "output_type": "execute_result"
    }
   ],
   "source": [
    "from dataclasses import dataclass\n",
    "\n",
    "@dataclass\n",
    "class State:\n",
    "    dice_values: tuple[int, ...]\n",
    "    rolls_left: int\n",
    "    categories_picked: frozenset[str]\n",
    "\n",
    "state = State((1, 2, 3, 4, 5), 2, frozenset({'chance', 'large_straight', 'yatzy'}))\n",
    "state"
   ]
  },
  {
   "cell_type": "code",
   "execution_count": null,
   "id": "a6cec164",
   "metadata": {
    "time_run": "6:45:41a"
   },
   "outputs": [
    {
     "data": {
      "text/plain": [
       "Action(type='reroll', value=(0, 0, 1, 0, 0))"
      ]
     },
     "execution_count": 77,
     "metadata": {},
     "output_type": "execute_result"
    }
   ],
   "source": [
    "from typing import Literal\n",
    "\n",
    "@dataclass\n",
    "class Action:\n",
    "    type: Literal[\"reroll\", \"score\", \"zero\"]\n",
    "    value: tuple[int, ...] | str\n",
    "\n",
    "Action(\"reroll\", (0,0,1,0,0))"
   ]
  },
  {
   "cell_type": "code",
   "execution_count": null,
   "id": "60b799c4",
   "metadata": {
    "time_run": "6:45:41a"
   },
   "outputs": [
    {
     "data": {
      "text/plain": [
       "[(0, 0, 0, 0, 0),\n",
       " (0, 0, 0, 0, 1),\n",
       " (0, 0, 0, 1, 1),\n",
       " (0, 0, 1, 1, 1),\n",
       " (0, 1, 1, 1, 1),\n",
       " (1, 1, 1, 1, 1)]"
      ]
     },
     "execution_count": 79,
     "metadata": {},
     "output_type": "execute_result"
    }
   ],
   "source": [
    "import itertools\n",
    "\n",
    "reroll_masks = list(itertools.combinations_with_replacement((0,1), 5))\n",
    "reroll_masks"
   ]
  },
  {
   "cell_type": "code",
   "execution_count": null,
   "id": "d52000ff",
   "metadata": {
    "time_run": "6:45:41a"
   },
   "outputs": [
    {
     "data": {
      "text/plain": [
       "[Action(type='reroll', value=(0, 0, 0, 0, 0)),\n",
       " Action(type='reroll', value=(0, 0, 0, 0, 1)),\n",
       " Action(type='reroll', value=(0, 0, 0, 1, 1)),\n",
       " Action(type='reroll', value=(0, 0, 1, 1, 1)),\n",
       " Action(type='reroll', value=(0, 1, 1, 1, 1)),\n",
       " Action(type='reroll', value=(1, 1, 1, 1, 1))]"
      ]
     },
     "execution_count": 81,
     "metadata": {},
     "output_type": "execute_result"
    }
   ],
   "source": [
    "available_actions = []\n",
    "if state.rolls_left > 0:\n",
    "    rerolls = [Action(\"reroll\", mask) for mask in reroll_masks]\n",
    "    available_actions.extend(rerolls)\n",
    "available_actions"
   ]
  },
  {
   "cell_type": "code",
   "execution_count": null,
   "id": "6f0191fa",
   "metadata": {
    "time_run": "6:45:41a"
   },
   "outputs": [
    {
     "data": {
      "text/plain": [
       "{'fives',\n",
       " 'four_same',\n",
       " 'fours',\n",
       " 'full_house',\n",
       " 'one_pair',\n",
       " 'ones',\n",
       " 'sixes',\n",
       " 'small_straight',\n",
       " 'three_same',\n",
       " 'threes',\n",
       " 'two_pairs',\n",
       " 'twos'}"
      ]
     },
     "execution_count": 83,
     "metadata": {},
     "output_type": "execute_result"
    }
   ],
   "source": [
    "can_zero = categories - state.categories_picked\n",
    "can_zero"
   ]
  },
  {
   "cell_type": "markdown",
   "id": "1b984c17",
   "metadata": {},
   "source": [
    "I need checker functions for\n",
    "* has_ones, has_twos, has_threes, ... I think I could have has_num(n) or something\n",
    "* has_pair\n",
    "* has_two_pairs\n",
    "* has_three_same\n",
    "* has_four_same\n",
    "* has_small_straight\n",
    "* has_large_straight\n",
    "* has_full_house\n",
    "* has_yatzy"
   ]
  },
  {
   "cell_type": "markdown",
   "id": "c1a82a9a",
   "metadata": {
    "solveit_ai": true
   },
   "source": [
    "Can you summarise where I'm at, whats still missing?\n",
    "\n",
    "##### 🤖Reply🤖<!-- SOLVEIT_SEPARATOR_7f3a9b2c -->\n",
    "\n",
    "**Where you're at:**\n",
    "\n",
    "* ✅ State representation (dataclass with dice, rolls_left, categories_picked)\n",
    "* ✅ Action representation (dataclass with type and value)\n",
    "* ✅ Category names defined\n",
    "* ✅ Basic dice rolling function\n",
    "* ✅ Started on available actions (reroll actions working)\n",
    "\n",
    "**Still missing:**\n",
    "\n",
    "1. **Checker functions** - detect patterns in dice (pairs, straights, full house, etc.)\n",
    "2. **Scoring functions** - calculate points for each category given dice\n",
    "3. **Complete available actions** - add \"score\" and \"zero\" actions based on what's valid\n",
    "4. **Transition function** - apply action to state and get next state\n",
    "5. **Reward/terminal logic** - when game ends and final score calculation\n",
    "6. **Value iteration** - the RL algorithm itself\n",
    "\n",
    "**Immediate next step:** The checker functions you listed seem like a natural next piece. Once you have those, scoring becomes straightforward.\n",
    "\n",
    "Do you want to start implementing the checker functions, or tackle something else first?"
   ]
  },
  {
   "cell_type": "code",
   "execution_count": null,
   "id": "2da10dc3",
   "metadata": {
    "time_run": "6:45:41a"
   },
   "outputs": [
    {
     "data": {
      "text/plain": [
       "Counter({1: 1, 2: 1, 3: 1, 4: 1, 5: 1})"
      ]
     },
     "execution_count": 85,
     "metadata": {},
     "output_type": "execute_result"
    }
   ],
   "source": [
    "values = state.dice_values\n",
    "# has ones\n",
    "1 in values\n",
    "# n in values\n",
    "\n",
    "from collections import Counter\n",
    "\n",
    "Counter(values)"
   ]
  },
  {
   "cell_type": "markdown",
   "id": "acff43a1",
   "metadata": {
    "solveit_ai": true
   },
   "source": [
    "How can I use counter to get keys that have certain value?\n",
    "\n",
    "##### 🤖Reply🤖<!-- SOLVEIT_SEPARATOR_7f3a9b2c -->\n",
    "\n",
    "You can filter the Counter by checking the counts:\n",
    "\n",
    "```python\n",
    "counts = Counter(values)\n",
    "# Keys with count >= 2\n",
    "pairs = [k for k, v in counts.items() if v >= 2]\n",
    "```\n",
    "\n",
    "Or to check if any value has a certain count:\n",
    "```python\n",
    "has_pair = any(count >= 2 for count in counts.values())\n",
    "```\n",
    "\n",
    "Does this help you think about how to implement your checker functions?"
   ]
  },
  {
   "cell_type": "code",
   "execution_count": null,
   "id": "763a4b00",
   "metadata": {
    "time_run": "6:45:41a"
   },
   "outputs": [
    {
     "data": {
      "text/plain": [
       "[1, 2]"
      ]
     },
     "execution_count": 87,
     "metadata": {},
     "output_type": "execute_result"
    }
   ],
   "source": [
    "counts = Counter((1, 1, 2, 2, 3))\n",
    "# Keys with count >= 2\n",
    "pairs = [k for k, v in counts.items() if v >= 2]\n",
    "pairs"
   ]
  },
  {
   "cell_type": "code",
   "execution_count": null,
   "id": "ff197f00",
   "metadata": {
    "time_run": "6:45:41a"
   },
   "outputs": [
    {
     "data": {
      "text/plain": [
       "[2]"
      ]
     },
     "execution_count": 89,
     "metadata": {},
     "output_type": "execute_result"
    }
   ],
   "source": [
    "counts = Counter((1, 2, 2, 2, 3))\n",
    "three_sames = [k for k, v in counts.items() if v >= 3]\n",
    "three_sames"
   ]
  },
  {
   "cell_type": "code",
   "execution_count": null,
   "id": "e528f9e0",
   "metadata": {
    "time_run": "6:45:42a"
   },
   "outputs": [
    {
     "data": {
      "text/plain": [
       "[5]"
      ]
     },
     "execution_count": 91,
     "metadata": {},
     "output_type": "execute_result"
    }
   ],
   "source": [
    "counts = Counter((1, 5, 5, 5, 5))\n",
    "four_sames = [k for k, v in counts.items() if v >= 4]\n",
    "four_sames"
   ]
  },
  {
   "cell_type": "code",
   "execution_count": null,
   "id": "727d3080",
   "metadata": {
    "time_run": "6:45:42a"
   },
   "outputs": [
    {
     "data": {
      "text/plain": [
       "[6]"
      ]
     },
     "execution_count": 93,
     "metadata": {},
     "output_type": "execute_result"
    }
   ],
   "source": [
    "counts = Counter((6,6,6,6,6))\n",
    "yatzy = [k for k, v in counts.items() if v >= 5]\n",
    "yatzy"
   ]
  },
  {
   "cell_type": "code",
   "execution_count": null,
   "id": "130bd433",
   "metadata": {
    "time_run": "6:45:42a"
   },
   "outputs": [
    {
     "data": {
      "text/plain": [
       "True"
      ]
     },
     "execution_count": 95,
     "metadata": {},
     "output_type": "execute_result"
    }
   ],
   "source": [
    "# Full house\n",
    "counts = Counter((5,5,5,6,6))\n",
    "pairs = [k for k, v in counts.items() if v >= 2]\n",
    "three_sames = [k for k, v in counts.items() if v >= 3]\n",
    "\n",
    "pairs.remove(three_sames[0])\n",
    "len(pairs) > 0"
   ]
  },
  {
   "cell_type": "code",
   "execution_count": null,
   "id": "41c72405",
   "metadata": {
    "time_run": "6:45:42a"
   },
   "outputs": [
    {
     "data": {
      "text/plain": [
       "True"
      ]
     },
     "execution_count": 97,
     "metadata": {},
     "output_type": "execute_result"
    }
   ],
   "source": [
    "# small straight\n",
    "values = (1, 2, 3, 4, 5)\n",
    "values == (1, 2, 3, 4, 5)\n",
    "\n",
    "# large straight\n",
    "values = (2, 3, 4, 5, 6)\n",
    "values == (2, 3, 4, 5, 6)\n"
   ]
  },
  {
   "cell_type": "code",
   "execution_count": null,
   "id": "2c1373cc",
   "metadata": {
    "time_run": "6:45:42a"
   },
   "outputs": [],
   "source": [
    "def has_ns(n, values):\n",
    "    return n in values\n",
    "\n",
    "assert has_ns(3, (1,2,3,4,5))\n",
    "assert not has_ns(6, (1,2,3,4,5))\n",
    "\n",
    "def n_same(n, values):\n",
    "    counts = Counter(values)\n",
    "    return [k for k, v in counts.items() if v >= n]\n",
    "\n",
    "assert n_same(2, (1,2,2,3,3)) == [2, 3]\n",
    "\n",
    "def has_n_same(n, values):\n",
    "    return bool(n_same(n, values))\n",
    "#def has_pair(values):\n",
    "#    return n_same(values, 2)\n",
    "\n",
    "#def has_three_same(values):\n",
    "#    return n_same(values, 3)\n",
    "\n",
    "#def has_four_same(values):\n",
    "#    return n_same(values, 4)\n",
    "\n",
    "#def has_yatzy(values):\n",
    "#    return n_same(values, 5)\n",
    "\n",
    "#assert has_yatzy((1,1,1,1,1))\n",
    "#assert not has_yatzy((1,1,1,1,2))\n",
    "\n",
    "def has_two_pairs(values):\n",
    "    pairs = n_same(2, values)\n",
    "    if len(pairs) == 2:\n",
    "        return True\n",
    "    return False\n",
    "\n",
    "assert has_two_pairs((1,1,2,2,3))\n",
    "assert not has_two_pairs((1,1,2,3,4))\n",
    "assert not has_two_pairs((1,1,1,1,2))\n",
    "\n",
    "def has_full_house(values):\n",
    "    pairs = n_same(2, values)\n",
    "    three_sames = n_same(3, values)\n",
    "    if pairs and three_sames:\n",
    "        pairs.remove(three_sames[0])\n",
    "        return len(pairs) > 0\n",
    "    return False\n",
    "\n",
    "assert has_full_house((2,2,3,3,3))\n",
    "assert not has_full_house((1,2,3,3,3))\n",
    "\n",
    "def has_small_straight(values):\n",
    "    return values == (1,2,3,4,5)\n",
    "\n",
    "def has_large_straight(values):\n",
    "    return values == (2,3,4,5,6)"
   ]
  },
  {
   "cell_type": "code",
   "execution_count": null,
   "id": "8df760ba",
   "metadata": {
    "time_run": "6:45:42a"
   },
   "outputs": [],
   "source": [
    "def score_n(value, values): \n",
    "    n = values.count(value)\n",
    "    return value * n\n",
    "assert score_n(1, (1,1,1,2,3)) == 3\n",
    "\n",
    "def score_same(n, values): \n",
    "    # todo\n",
    "    return value * n\n",
    "\n",
    "\n",
    "def score_yatzy(value): return value * 5 + 50\n",
    "def score_two_pairs(pair1, pair2): return 2 * pair1 + 2 * pair2\n",
    "def score_full_house(pair_value, three_value): return 2 * pair_value + 3 * three_value\n",
    "def score_small_straight(): return 15\n",
    "def score_large_straight(): return 20\n"
   ]
  },
  {
   "cell_type": "code",
   "execution_count": null,
   "id": "f792b036",
   "metadata": {
    "time_run": "6:45:42a"
   },
   "outputs": [
    {
     "data": {
      "text/plain": [
       "{'fives',\n",
       " 'four_same',\n",
       " 'fours',\n",
       " 'full_house',\n",
       " 'one_pair',\n",
       " 'ones',\n",
       " 'sixes',\n",
       " 'small_straight',\n",
       " 'three_same',\n",
       " 'threes',\n",
       " 'two_pairs',\n",
       " 'twos'}"
      ]
     },
     "execution_count": 103,
     "metadata": {},
     "output_type": "execute_result"
    }
   ],
   "source": [
    "can_zero"
   ]
  },
  {
   "cell_type": "code",
   "execution_count": null,
   "id": "6f28fa69",
   "metadata": {
    "time_run": "6:45:42a"
   },
   "outputs": [],
   "source": [
    "from functools import partial\n",
    "\n",
    "checkers = {\n",
    "    \"ones\": partial(has_ns, 1),\n",
    "    \"twos\": partial(has_ns, 2),\n",
    "    \"threes\": partial(has_ns, 3),\n",
    "    \"fours\": partial(has_ns, 4),\n",
    "    \"fives\": partial(has_ns, 5),\n",
    "    \"sixes\": partial(has_ns, 6),\n",
    "    \"one_pair\": partial(has_n_same, 2),\n",
    "    \"two_pairs\": has_two_pairs,\n",
    "    \"three_same\": partial(has_n_same, 3),\n",
    "    \"four_same\": partial(has_n_same, 4),\n",
    "    \"small_straight\": has_small_straight,\n",
    "    \"large_straight\": has_large_straight,\n",
    "    \"full_house\": has_full_house,\n",
    "    \"chance\": lambda x: x, # ???\n",
    "    \"yatzy\": partial(n_same, 5),\n",
    "}"
   ]
  },
  {
   "cell_type": "code",
   "execution_count": null,
   "id": "3c703b93",
   "metadata": {
    "time_run": "6:45:42a"
   },
   "outputs": [
    {
     "name": "stdout",
     "output_type": "stream",
     "text": [
      "two_pairs False\n",
      "threes True\n",
      "small_straight True\n",
      "fours True\n",
      "four_same False\n",
      "one_pair False\n",
      "twos True\n",
      "ones True\n",
      "sixes False\n",
      "three_same False\n",
      "full_house False\n",
      "fives True\n"
     ]
    }
   ],
   "source": [
    "for category in can_zero:\n",
    "    can_select = checkers[category](state.dice_values)\n",
    "    print(category, can_select)"
   ]
  },
  {
   "cell_type": "code",
   "execution_count": null,
   "id": "8cabff83",
   "metadata": {
    "time_run": "6:45:42a"
   },
   "outputs": [],
   "source": [
    "scorers = {\n",
    "    \"ones\": partial(score_n, 1),\n",
    "    \"twos\": partial(score_n, 2),\n",
    "    \"threes\": partial(score_n, 3),\n",
    "    \"fours\": partial(score_n, 4),\n",
    "    \"fives\": partial(score_n, 5),\n",
    "    \"sixes\": partial(score_n, 6),\n",
    "    \"one_pair\": partial(score_same, 2),\n",
    "    \"two_pairs\": score_two_pairs,\n",
    "    \"three_same\": partial(score_same, 3),\n",
    "    \"four_same\": partial(score_same, 4),\n",
    "    \"small_straight\": score_small_straight,\n",
    "    \"large_straight\": score_large_straight,\n",
    "    \"full_house\": score_full_house,\n",
    "    \"chance\": lambda x: sum(x),\n",
    "    \"yatzy\": score_yatzy,\n",
    "}"
   ]
  },
  {
   "cell_type": "code",
   "execution_count": null,
   "id": "c8079a0b",
   "metadata": {
    "time_run": "6:45:42a"
   },
   "outputs": [
    {
     "data": {
      "text/plain": [
       "[Action(type='reroll', value=(0, 0, 0, 0, 0)),\n",
       " Action(type='reroll', value=(0, 0, 0, 0, 1)),\n",
       " Action(type='reroll', value=(0, 0, 0, 1, 1)),\n",
       " Action(type='reroll', value=(0, 0, 1, 1, 1)),\n",
       " Action(type='reroll', value=(0, 1, 1, 1, 1)),\n",
       " Action(type='reroll', value=(1, 1, 1, 1, 1))]"
      ]
     },
     "execution_count": 111,
     "metadata": {},
     "output_type": "execute_result"
    }
   ],
   "source": [
    "available_actions"
   ]
  },
  {
   "cell_type": "code",
   "execution_count": null,
   "id": "45eea0f2",
   "metadata": {
    "time_run": "6:45:42a"
   },
   "outputs": [
    {
     "data": {
      "text/plain": [
       "[Action(type='reroll', value=(0, 0, 0, 0, 0)),\n",
       " Action(type='reroll', value=(0, 0, 0, 0, 1)),\n",
       " Action(type='reroll', value=(0, 0, 0, 1, 1)),\n",
       " Action(type='reroll', value=(0, 0, 1, 1, 1)),\n",
       " Action(type='reroll', value=(0, 1, 1, 1, 1)),\n",
       " Action(type='reroll', value=(1, 1, 1, 1, 1)),\n",
       " Action(type='zero', value='two_pairs'),\n",
       " Action(type='zero', value='threes'),\n",
       " Action(type='score', value='threes'),\n",
       " Action(type='zero', value='small_straight'),\n",
       " Action(type='score', value='small_straight'),\n",
       " Action(type='zero', value='fours'),\n",
       " Action(type='score', value='fours'),\n",
       " Action(type='zero', value='four_same'),\n",
       " Action(type='zero', value='one_pair'),\n",
       " Action(type='zero', value='twos'),\n",
       " Action(type='score', value='twos'),\n",
       " Action(type='zero', value='ones'),\n",
       " Action(type='score', value='ones'),\n",
       " Action(type='zero', value='sixes'),\n",
       " Action(type='zero', value='three_same'),\n",
       " Action(type='zero', value='full_house'),\n",
       " Action(type='zero', value='fives'),\n",
       " Action(type='score', value='fives')]"
      ]
     },
     "execution_count": 113,
     "metadata": {},
     "output_type": "execute_result"
    }
   ],
   "source": [
    "for cat in can_zero:\n",
    "    available_actions.append(Action(type=\"zero\", value=cat))\n",
    "    can_select = checkers[cat](state.dice_values)\n",
    "    if can_select:\n",
    "        available_actions.append(Action(type=\"score\", value=cat))\n",
    "available_actions"
   ]
  },
  {
   "cell_type": "markdown",
   "id": "39e7c872",
   "metadata": {
    "solveit_ai": true
   },
   "source": [
    "Thats all actions I think for $`state`. I need to stop and gather all my work together. I'm interested in Jeremy Howards nbdev approach. He keeps code in notebooks as literate programming. Basically coming up with the solutions is part of that, but the notebooks he has are very clean and straightforward. I guess he cleans them up thoroughly. How should I approach cleaning up this notebook to practice nbdev/solveit approach?"
   ]
  }
 ],
 "metadata": {
  "solveit_dialog_mode": "learning",
  "solveit_ver": 2
 },
 "nbformat": 4,
 "nbformat_minor": 5
}
